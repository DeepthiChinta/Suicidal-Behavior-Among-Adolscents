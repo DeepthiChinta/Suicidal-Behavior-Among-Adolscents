{
 "cells": [
  {
   "cell_type": "code",
   "execution_count": 1,
   "id": "a1c62376",
   "metadata": {},
   "outputs": [],
   "source": [
    "import pandas as pd\n",
    "import seaborn as sns\n",
    "from matplotlib import pyplot as plt\n",
    "from sklearn.model_selection import train_test_split\n",
    "from sklearn import linear_model"
   ]
  },
  {
   "cell_type": "markdown",
   "id": "572faa81",
   "metadata": {},
   "source": [
    "### Data Loading"
   ]
  },
  {
   "cell_type": "code",
   "execution_count": 2,
   "id": "68f07678",
   "metadata": {},
   "outputs": [],
   "source": [
    "names =['country','yr','age','sex','alcohol','drunkard','obese','drug','parents_fights','bunk','had_sex','smoker','had_fights','bullied','accident','alone','suicide']\n",
    "dataset = pd.read_csv(r\"C:\\Users\\deept\\OneDrive\\Desktop\\GHSH_Pooled_Data1.csv\",names = names,skiprows=1)"
   ]
  },
  {
   "cell_type": "markdown",
   "id": "6c675584",
   "metadata": {},
   "source": [
    "### Understanding data"
   ]
  },
  {
   "cell_type": "markdown",
   "id": "64631bb5",
   "metadata": {},
   "source": [
    "#### Data understanding is the knowledge that you have about the data, the needs that the data will satisfy, its content and location. To be clear, it is much more than current location and a definition of what a data element means in situ within an application or data base."
   ]
  },
  {
   "cell_type": "code",
   "execution_count": 3,
   "id": "40a2ee23",
   "metadata": {},
   "outputs": [
    {
     "data": {
      "text/plain": [
       "(106, 17)"
      ]
     },
     "execution_count": 3,
     "metadata": {},
     "output_type": "execute_result"
    }
   ],
   "source": [
    "dataset.shape"
   ]
  },
  {
   "cell_type": "code",
   "execution_count": 4,
   "id": "6b82dccf",
   "metadata": {},
   "outputs": [
    {
     "data": {
      "text/html": [
       "<div>\n",
       "<style scoped>\n",
       "    .dataframe tbody tr th:only-of-type {\n",
       "        vertical-align: middle;\n",
       "    }\n",
       "\n",
       "    .dataframe tbody tr th {\n",
       "        vertical-align: top;\n",
       "    }\n",
       "\n",
       "    .dataframe thead th {\n",
       "        text-align: right;\n",
       "    }\n",
       "</style>\n",
       "<table border=\"1\" class=\"dataframe\">\n",
       "  <thead>\n",
       "    <tr style=\"text-align: right;\">\n",
       "      <th></th>\n",
       "      <th>yr</th>\n",
       "      <th>alcohol</th>\n",
       "      <th>drunkard</th>\n",
       "      <th>obese</th>\n",
       "      <th>drug</th>\n",
       "      <th>parents_fights</th>\n",
       "      <th>bunk</th>\n",
       "      <th>had_sex</th>\n",
       "      <th>smoker</th>\n",
       "      <th>had_fights</th>\n",
       "      <th>bullied</th>\n",
       "      <th>accident</th>\n",
       "      <th>alone</th>\n",
       "      <th>suicide</th>\n",
       "    </tr>\n",
       "  </thead>\n",
       "  <tbody>\n",
       "    <tr>\n",
       "      <th>count</th>\n",
       "      <td>106.000000</td>\n",
       "      <td>106.000000</td>\n",
       "      <td>106.000000</td>\n",
       "      <td>106.000000</td>\n",
       "      <td>106.000000</td>\n",
       "      <td>106.000000</td>\n",
       "      <td>106.000000</td>\n",
       "      <td>106.000000</td>\n",
       "      <td>104.000000</td>\n",
       "      <td>106.000000</td>\n",
       "      <td>102.000000</td>\n",
       "      <td>106.000000</td>\n",
       "      <td>106.000000</td>\n",
       "      <td>106.000000</td>\n",
       "    </tr>\n",
       "    <tr>\n",
       "      <th>mean</th>\n",
       "      <td>2014.698113</td>\n",
       "      <td>31.815094</td>\n",
       "      <td>22.496226</td>\n",
       "      <td>23.694340</td>\n",
       "      <td>7.642453</td>\n",
       "      <td>33.190566</td>\n",
       "      <td>29.996226</td>\n",
       "      <td>26.679245</td>\n",
       "      <td>15.546154</td>\n",
       "      <td>32.448113</td>\n",
       "      <td>31.109804</td>\n",
       "      <td>43.723679</td>\n",
       "      <td>7.744340</td>\n",
       "      <td>14.452830</td>\n",
       "    </tr>\n",
       "    <tr>\n",
       "      <th>std</th>\n",
       "      <td>2.089292</td>\n",
       "      <td>53.454089</td>\n",
       "      <td>16.553129</td>\n",
       "      <td>15.764075</td>\n",
       "      <td>8.713536</td>\n",
       "      <td>11.559408</td>\n",
       "      <td>10.786728</td>\n",
       "      <td>17.401318</td>\n",
       "      <td>10.748501</td>\n",
       "      <td>15.297701</td>\n",
       "      <td>14.185479</td>\n",
       "      <td>14.808421</td>\n",
       "      <td>4.365254</td>\n",
       "      <td>9.273621</td>\n",
       "    </tr>\n",
       "    <tr>\n",
       "      <th>min</th>\n",
       "      <td>2010.000000</td>\n",
       "      <td>1.400000</td>\n",
       "      <td>0.800000</td>\n",
       "      <td>3.300000</td>\n",
       "      <td>0.000000</td>\n",
       "      <td>5.600000</td>\n",
       "      <td>6.500000</td>\n",
       "      <td>2.500000</td>\n",
       "      <td>1.200000</td>\n",
       "      <td>3.500000</td>\n",
       "      <td>9.900000</td>\n",
       "      <td>15.200000</td>\n",
       "      <td>1.500000</td>\n",
       "      <td>2.700000</td>\n",
       "    </tr>\n",
       "    <tr>\n",
       "      <th>25%</th>\n",
       "      <td>2013.000000</td>\n",
       "      <td>11.550000</td>\n",
       "      <td>9.000000</td>\n",
       "      <td>11.400000</td>\n",
       "      <td>2.025000</td>\n",
       "      <td>25.825000</td>\n",
       "      <td>22.450000</td>\n",
       "      <td>12.600000</td>\n",
       "      <td>7.050000</td>\n",
       "      <td>20.750000</td>\n",
       "      <td>21.775000</td>\n",
       "      <td>34.800000</td>\n",
       "      <td>4.500000</td>\n",
       "      <td>9.400000</td>\n",
       "    </tr>\n",
       "    <tr>\n",
       "      <th>50%</th>\n",
       "      <td>2015.000000</td>\n",
       "      <td>26.000000</td>\n",
       "      <td>19.650000</td>\n",
       "      <td>21.800000</td>\n",
       "      <td>4.350000</td>\n",
       "      <td>33.400000</td>\n",
       "      <td>28.950000</td>\n",
       "      <td>22.350000</td>\n",
       "      <td>12.600000</td>\n",
       "      <td>29.650000</td>\n",
       "      <td>27.550000</td>\n",
       "      <td>41.400000</td>\n",
       "      <td>6.950000</td>\n",
       "      <td>11.850000</td>\n",
       "    </tr>\n",
       "    <tr>\n",
       "      <th>75%</th>\n",
       "      <td>2016.000000</td>\n",
       "      <td>42.350000</td>\n",
       "      <td>30.475000</td>\n",
       "      <td>31.850000</td>\n",
       "      <td>9.575000</td>\n",
       "      <td>40.850000</td>\n",
       "      <td>36.825000</td>\n",
       "      <td>37.100000</td>\n",
       "      <td>22.000000</td>\n",
       "      <td>42.700000</td>\n",
       "      <td>41.150000</td>\n",
       "      <td>53.150000</td>\n",
       "      <td>9.700000</td>\n",
       "      <td>18.425000</td>\n",
       "    </tr>\n",
       "    <tr>\n",
       "      <th>max</th>\n",
       "      <td>2018.000000</td>\n",
       "      <td>548.000000</td>\n",
       "      <td>80.200000</td>\n",
       "      <td>70.600000</td>\n",
       "      <td>43.200000</td>\n",
       "      <td>63.900000</td>\n",
       "      <td>62.200000</td>\n",
       "      <td>73.900000</td>\n",
       "      <td>43.800000</td>\n",
       "      <td>76.500000</td>\n",
       "      <td>78.600000</td>\n",
       "      <td>87.700000</td>\n",
       "      <td>24.800000</td>\n",
       "      <td>67.200000</td>\n",
       "    </tr>\n",
       "  </tbody>\n",
       "</table>\n",
       "</div>"
      ],
      "text/plain": [
       "                yr     alcohol    drunkard       obese        drug  \\\n",
       "count   106.000000  106.000000  106.000000  106.000000  106.000000   \n",
       "mean   2014.698113   31.815094   22.496226   23.694340    7.642453   \n",
       "std       2.089292   53.454089   16.553129   15.764075    8.713536   \n",
       "min    2010.000000    1.400000    0.800000    3.300000    0.000000   \n",
       "25%    2013.000000   11.550000    9.000000   11.400000    2.025000   \n",
       "50%    2015.000000   26.000000   19.650000   21.800000    4.350000   \n",
       "75%    2016.000000   42.350000   30.475000   31.850000    9.575000   \n",
       "max    2018.000000  548.000000   80.200000   70.600000   43.200000   \n",
       "\n",
       "       parents_fights        bunk     had_sex      smoker  had_fights  \\\n",
       "count      106.000000  106.000000  106.000000  104.000000  106.000000   \n",
       "mean        33.190566   29.996226   26.679245   15.546154   32.448113   \n",
       "std         11.559408   10.786728   17.401318   10.748501   15.297701   \n",
       "min          5.600000    6.500000    2.500000    1.200000    3.500000   \n",
       "25%         25.825000   22.450000   12.600000    7.050000   20.750000   \n",
       "50%         33.400000   28.950000   22.350000   12.600000   29.650000   \n",
       "75%         40.850000   36.825000   37.100000   22.000000   42.700000   \n",
       "max         63.900000   62.200000   73.900000   43.800000   76.500000   \n",
       "\n",
       "          bullied    accident       alone     suicide  \n",
       "count  102.000000  106.000000  106.000000  106.000000  \n",
       "mean    31.109804   43.723679    7.744340   14.452830  \n",
       "std     14.185479   14.808421    4.365254    9.273621  \n",
       "min      9.900000   15.200000    1.500000    2.700000  \n",
       "25%     21.775000   34.800000    4.500000    9.400000  \n",
       "50%     27.550000   41.400000    6.950000   11.850000  \n",
       "75%     41.150000   53.150000    9.700000   18.425000  \n",
       "max     78.600000   87.700000   24.800000   67.200000  "
      ]
     },
     "execution_count": 4,
     "metadata": {},
     "output_type": "execute_result"
    }
   ],
   "source": [
    "dataset.describe()"
   ]
  },
  {
   "cell_type": "code",
   "execution_count": 5,
   "id": "67a5f175",
   "metadata": {
    "scrolled": true
   },
   "outputs": [
    {
     "data": {
      "text/html": [
       "<div>\n",
       "<style scoped>\n",
       "    .dataframe tbody tr th:only-of-type {\n",
       "        vertical-align: middle;\n",
       "    }\n",
       "\n",
       "    .dataframe tbody tr th {\n",
       "        vertical-align: top;\n",
       "    }\n",
       "\n",
       "    .dataframe thead th {\n",
       "        text-align: right;\n",
       "    }\n",
       "</style>\n",
       "<table border=\"1\" class=\"dataframe\">\n",
       "  <thead>\n",
       "    <tr style=\"text-align: right;\">\n",
       "      <th></th>\n",
       "      <th>country</th>\n",
       "      <th>yr</th>\n",
       "      <th>age</th>\n",
       "      <th>sex</th>\n",
       "      <th>alcohol</th>\n",
       "      <th>drunkard</th>\n",
       "      <th>obese</th>\n",
       "      <th>drug</th>\n",
       "      <th>parents_fights</th>\n",
       "      <th>bunk</th>\n",
       "      <th>had_sex</th>\n",
       "      <th>smoker</th>\n",
       "      <th>had_fights</th>\n",
       "      <th>bullied</th>\n",
       "      <th>accident</th>\n",
       "      <th>alone</th>\n",
       "      <th>suicide</th>\n",
       "    </tr>\n",
       "  </thead>\n",
       "  <tbody>\n",
       "    <tr>\n",
       "      <th>0</th>\n",
       "      <td>Argentina</td>\n",
       "      <td>2018</td>\n",
       "      <td>13-15</td>\n",
       "      <td>Female</td>\n",
       "      <td>50.3</td>\n",
       "      <td>30.7</td>\n",
       "      <td>27.8</td>\n",
       "      <td>7.9</td>\n",
       "      <td>41.5</td>\n",
       "      <td>24.7</td>\n",
       "      <td>25.7</td>\n",
       "      <td>16.8</td>\n",
       "      <td>17.2</td>\n",
       "      <td>NaN</td>\n",
       "      <td>27.5</td>\n",
       "      <td>4.8</td>\n",
       "      <td>19.9</td>\n",
       "    </tr>\n",
       "    <tr>\n",
       "      <th>1</th>\n",
       "      <td>Argentina</td>\n",
       "      <td>2018</td>\n",
       "      <td>13-15</td>\n",
       "      <td>Male</td>\n",
       "      <td>44.9</td>\n",
       "      <td>26.1</td>\n",
       "      <td>39.1</td>\n",
       "      <td>8.4</td>\n",
       "      <td>44.5</td>\n",
       "      <td>27.9</td>\n",
       "      <td>38.4</td>\n",
       "      <td>12.1</td>\n",
       "      <td>33.2</td>\n",
       "      <td>NaN</td>\n",
       "      <td>37.4</td>\n",
       "      <td>5.5</td>\n",
       "      <td>10.4</td>\n",
       "    </tr>\n",
       "    <tr>\n",
       "      <th>2</th>\n",
       "      <td>Argentina</td>\n",
       "      <td>2018</td>\n",
       "      <td>16-17</td>\n",
       "      <td>Female</td>\n",
       "      <td>67.2</td>\n",
       "      <td>56.3</td>\n",
       "      <td>22.5</td>\n",
       "      <td>21.9</td>\n",
       "      <td>37.1</td>\n",
       "      <td>34.0</td>\n",
       "      <td>59.1</td>\n",
       "      <td>28.5</td>\n",
       "      <td>15.1</td>\n",
       "      <td>NaN</td>\n",
       "      <td>30.1</td>\n",
       "      <td>6.3</td>\n",
       "      <td>17.4</td>\n",
       "    </tr>\n",
       "    <tr>\n",
       "      <th>3</th>\n",
       "      <td>Argentina</td>\n",
       "      <td>2018</td>\n",
       "      <td>16-17</td>\n",
       "      <td>Male</td>\n",
       "      <td>68.1</td>\n",
       "      <td>55.8</td>\n",
       "      <td>27.9</td>\n",
       "      <td>27.0</td>\n",
       "      <td>39.8</td>\n",
       "      <td>39.4</td>\n",
       "      <td>68.6</td>\n",
       "      <td>28.0</td>\n",
       "      <td>33.6</td>\n",
       "      <td>NaN</td>\n",
       "      <td>40.3</td>\n",
       "      <td>6.6</td>\n",
       "      <td>11.2</td>\n",
       "    </tr>\n",
       "    <tr>\n",
       "      <th>4</th>\n",
       "      <td>Argentina</td>\n",
       "      <td>2012</td>\n",
       "      <td>13-15</td>\n",
       "      <td>Male</td>\n",
       "      <td>49.3</td>\n",
       "      <td>28.9</td>\n",
       "      <td>35.9</td>\n",
       "      <td>10.6</td>\n",
       "      <td>46.2</td>\n",
       "      <td>32.0</td>\n",
       "      <td>43.5</td>\n",
       "      <td>17.0</td>\n",
       "      <td>44.2</td>\n",
       "      <td>42.1</td>\n",
       "      <td>24.8</td>\n",
       "      <td>6.1</td>\n",
       "      <td>12.9</td>\n",
       "    </tr>\n",
       "  </tbody>\n",
       "</table>\n",
       "</div>"
      ],
      "text/plain": [
       "     country    yr    age     sex  alcohol  drunkard  obese  drug  \\\n",
       "0  Argentina  2018  13-15  Female     50.3      30.7   27.8   7.9   \n",
       "1  Argentina  2018  13-15    Male     44.9      26.1   39.1   8.4   \n",
       "2  Argentina  2018  16-17  Female     67.2      56.3   22.5  21.9   \n",
       "3  Argentina  2018  16-17    Male     68.1      55.8   27.9  27.0   \n",
       "4  Argentina  2012  13-15    Male     49.3      28.9   35.9  10.6   \n",
       "\n",
       "   parents_fights  bunk  had_sex  smoker  had_fights  bullied  accident  \\\n",
       "0            41.5  24.7     25.7    16.8        17.2      NaN      27.5   \n",
       "1            44.5  27.9     38.4    12.1        33.2      NaN      37.4   \n",
       "2            37.1  34.0     59.1    28.5        15.1      NaN      30.1   \n",
       "3            39.8  39.4     68.6    28.0        33.6      NaN      40.3   \n",
       "4            46.2  32.0     43.5    17.0        44.2     42.1      24.8   \n",
       "\n",
       "   alone  suicide  \n",
       "0    4.8     19.9  \n",
       "1    5.5     10.4  \n",
       "2    6.3     17.4  \n",
       "3    6.6     11.2  \n",
       "4    6.1     12.9  "
      ]
     },
     "execution_count": 5,
     "metadata": {},
     "output_type": "execute_result"
    }
   ],
   "source": [
    "dataset.head()"
   ]
  },
  {
   "cell_type": "code",
   "execution_count": 6,
   "id": "820f6a37",
   "metadata": {},
   "outputs": [
    {
     "data": {
      "text/html": [
       "<div>\n",
       "<style scoped>\n",
       "    .dataframe tbody tr th:only-of-type {\n",
       "        vertical-align: middle;\n",
       "    }\n",
       "\n",
       "    .dataframe tbody tr th {\n",
       "        vertical-align: top;\n",
       "    }\n",
       "\n",
       "    .dataframe thead th {\n",
       "        text-align: right;\n",
       "    }\n",
       "</style>\n",
       "<table border=\"1\" class=\"dataframe\">\n",
       "  <thead>\n",
       "    <tr style=\"text-align: right;\">\n",
       "      <th></th>\n",
       "      <th>country</th>\n",
       "      <th>yr</th>\n",
       "      <th>age</th>\n",
       "      <th>sex</th>\n",
       "      <th>alcohol</th>\n",
       "      <th>drunkard</th>\n",
       "      <th>obese</th>\n",
       "      <th>drug</th>\n",
       "      <th>parents_fights</th>\n",
       "      <th>bunk</th>\n",
       "      <th>had_sex</th>\n",
       "      <th>smoker</th>\n",
       "      <th>had_fights</th>\n",
       "      <th>bullied</th>\n",
       "      <th>accident</th>\n",
       "      <th>alone</th>\n",
       "      <th>suicide</th>\n",
       "    </tr>\n",
       "  </thead>\n",
       "  <tbody>\n",
       "    <tr>\n",
       "      <th>101</th>\n",
       "      <td>Vanuatu</td>\n",
       "      <td>2011</td>\n",
       "      <td>13-15</td>\n",
       "      <td>Female</td>\n",
       "      <td>5.8</td>\n",
       "      <td>4.7</td>\n",
       "      <td>13.6</td>\n",
       "      <td>1.9</td>\n",
       "      <td>20.2</td>\n",
       "      <td>44.6</td>\n",
       "      <td>8.4</td>\n",
       "      <td>8.2</td>\n",
       "      <td>41.8</td>\n",
       "      <td>66.5</td>\n",
       "      <td>57.4</td>\n",
       "      <td>14.3</td>\n",
       "      <td>19.5</td>\n",
       "    </tr>\n",
       "    <tr>\n",
       "      <th>102</th>\n",
       "      <td>Wallis and Futuna</td>\n",
       "      <td>2015</td>\n",
       "      <td>13-15</td>\n",
       "      <td>Male</td>\n",
       "      <td>32.2</td>\n",
       "      <td>35.5</td>\n",
       "      <td>60.5</td>\n",
       "      <td>4.0</td>\n",
       "      <td>36.3</td>\n",
       "      <td>32.7</td>\n",
       "      <td>32.0</td>\n",
       "      <td>25.7</td>\n",
       "      <td>48.7</td>\n",
       "      <td>30.2</td>\n",
       "      <td>51.2</td>\n",
       "      <td>4.1</td>\n",
       "      <td>14.7</td>\n",
       "    </tr>\n",
       "    <tr>\n",
       "      <th>103</th>\n",
       "      <td>Wallis and Futuna</td>\n",
       "      <td>2015</td>\n",
       "      <td>13-15</td>\n",
       "      <td>Female</td>\n",
       "      <td>24.4</td>\n",
       "      <td>27.1</td>\n",
       "      <td>63.0</td>\n",
       "      <td>2.0</td>\n",
       "      <td>36.3</td>\n",
       "      <td>16.2</td>\n",
       "      <td>13.6</td>\n",
       "      <td>29.9</td>\n",
       "      <td>22.9</td>\n",
       "      <td>30.9</td>\n",
       "      <td>41.7</td>\n",
       "      <td>3.3</td>\n",
       "      <td>16.9</td>\n",
       "    </tr>\n",
       "    <tr>\n",
       "      <th>104</th>\n",
       "      <td>Wallis and Futuna</td>\n",
       "      <td>2015</td>\n",
       "      <td>16-17</td>\n",
       "      <td>Male</td>\n",
       "      <td>48.3</td>\n",
       "      <td>53.7</td>\n",
       "      <td>57.8</td>\n",
       "      <td>10.1</td>\n",
       "      <td>36.5</td>\n",
       "      <td>38.9</td>\n",
       "      <td>55.7</td>\n",
       "      <td>40.0</td>\n",
       "      <td>49.6</td>\n",
       "      <td>23.6</td>\n",
       "      <td>54.5</td>\n",
       "      <td>7.3</td>\n",
       "      <td>9.0</td>\n",
       "    </tr>\n",
       "    <tr>\n",
       "      <th>105</th>\n",
       "      <td>Wallis and Futuna</td>\n",
       "      <td>2015</td>\n",
       "      <td>16-17</td>\n",
       "      <td>Female</td>\n",
       "      <td>42.9</td>\n",
       "      <td>51.7</td>\n",
       "      <td>70.6</td>\n",
       "      <td>3.9</td>\n",
       "      <td>37.8</td>\n",
       "      <td>37.2</td>\n",
       "      <td>22.4</td>\n",
       "      <td>41.7</td>\n",
       "      <td>17.3</td>\n",
       "      <td>29.4</td>\n",
       "      <td>30.4</td>\n",
       "      <td>1.5</td>\n",
       "      <td>16.2</td>\n",
       "    </tr>\n",
       "  </tbody>\n",
       "</table>\n",
       "</div>"
      ],
      "text/plain": [
       "                country    yr    age     sex  alcohol  drunkard  obese  drug  \\\n",
       "101            Vanuatu   2011  13-15  Female      5.8       4.7   13.6   1.9   \n",
       "102  Wallis and Futuna   2015  13-15    Male     32.2      35.5   60.5   4.0   \n",
       "103  Wallis and Futuna   2015  13-15  Female     24.4      27.1   63.0   2.0   \n",
       "104  Wallis and Futuna   2015  16-17    Male     48.3      53.7   57.8  10.1   \n",
       "105  Wallis and Futuna   2015  16-17  Female     42.9      51.7   70.6   3.9   \n",
       "\n",
       "     parents_fights  bunk  had_sex  smoker  had_fights  bullied  accident  \\\n",
       "101            20.2  44.6      8.4     8.2        41.8     66.5      57.4   \n",
       "102            36.3  32.7     32.0    25.7        48.7     30.2      51.2   \n",
       "103            36.3  16.2     13.6    29.9        22.9     30.9      41.7   \n",
       "104            36.5  38.9     55.7    40.0        49.6     23.6      54.5   \n",
       "105            37.8  37.2     22.4    41.7        17.3     29.4      30.4   \n",
       "\n",
       "     alone  suicide  \n",
       "101   14.3     19.5  \n",
       "102    4.1     14.7  \n",
       "103    3.3     16.9  \n",
       "104    7.3      9.0  \n",
       "105    1.5     16.2  "
      ]
     },
     "execution_count": 6,
     "metadata": {},
     "output_type": "execute_result"
    }
   ],
   "source": [
    "dataset.tail()"
   ]
  },
  {
   "cell_type": "markdown",
   "id": "69d3c208",
   "metadata": {},
   "source": [
    "### Data Cleansing / Preprocessing"
   ]
  },
  {
   "cell_type": "markdown",
   "id": "cdd4908d",
   "metadata": {},
   "source": [
    "#### Data cleansing or data cleaning is the process of detecting and correcting corrupt or inaccurate records from a record set, table, or database and refers to identifying incomplete, incorrect, inaccurate or irrelevant parts of the data and then replacing, modifying, or deleting the dirty or coarse data."
   ]
  },
  {
   "cell_type": "code",
   "execution_count": 7,
   "id": "a988b259",
   "metadata": {},
   "outputs": [
    {
     "name": "stdout",
     "output_type": "stream",
     "text": [
      "<class 'pandas.core.frame.DataFrame'>\n",
      "RangeIndex: 106 entries, 0 to 105\n",
      "Data columns (total 17 columns):\n",
      " #   Column          Non-Null Count  Dtype  \n",
      "---  ------          --------------  -----  \n",
      " 0   country         106 non-null    object \n",
      " 1   yr              106 non-null    int64  \n",
      " 2   age             106 non-null    object \n",
      " 3   sex             106 non-null    object \n",
      " 4   alcohol         106 non-null    float64\n",
      " 5   drunkard        106 non-null    float64\n",
      " 6   obese           106 non-null    float64\n",
      " 7   drug            106 non-null    float64\n",
      " 8   parents_fights  106 non-null    float64\n",
      " 9   bunk            106 non-null    float64\n",
      " 10  had_sex         106 non-null    float64\n",
      " 11  smoker          104 non-null    float64\n",
      " 12  had_fights      106 non-null    float64\n",
      " 13  bullied         102 non-null    float64\n",
      " 14  accident        106 non-null    float64\n",
      " 15  alone           106 non-null    float64\n",
      " 16  suicide         106 non-null    float64\n",
      "dtypes: float64(13), int64(1), object(3)\n",
      "memory usage: 14.2+ KB\n"
     ]
    }
   ],
   "source": [
    "dataset.info()"
   ]
  },
  {
   "cell_type": "code",
   "execution_count": 8,
   "id": "77f39f59",
   "metadata": {},
   "outputs": [
    {
     "data": {
      "text/plain": [
       "country           0\n",
       "yr                0\n",
       "age               0\n",
       "sex               0\n",
       "alcohol           0\n",
       "drunkard          0\n",
       "obese             0\n",
       "drug              0\n",
       "parents_fights    0\n",
       "bunk              0\n",
       "had_sex           0\n",
       "smoker            2\n",
       "had_fights        0\n",
       "bullied           4\n",
       "accident          0\n",
       "alone             0\n",
       "suicide           0\n",
       "dtype: int64"
      ]
     },
     "execution_count": 8,
     "metadata": {},
     "output_type": "execute_result"
    }
   ],
   "source": [
    "dataset.isnull().sum()"
   ]
  },
  {
   "cell_type": "code",
   "execution_count": 9,
   "id": "e7bbecd6",
   "metadata": {},
   "outputs": [
    {
     "data": {
      "text/plain": [
       "<AxesSubplot:>"
      ]
     },
     "execution_count": 9,
     "metadata": {},
     "output_type": "execute_result"
    },
    {
     "data": {
      "image/png": "[encoded data removed]",
      "text/plain": [
       "<Figure size 432x288 with 1 Axes>"
      ]
     },
     "metadata": {
      "needs_background": "light"
     },
     "output_type": "display_data"
    }
   ],
   "source": [
    "bp = dataset.boxplot(column=['smoker', 'bullied'])  # Visually showing Null values\n",
    "bp"
   ]
  },
  {
   "cell_type": "code",
   "execution_count": 10,
   "id": "f8fcc0c2",
   "metadata": {},
   "outputs": [],
   "source": [
    "dataset = dataset.dropna()   # dropping null values"
   ]
  },
  {
   "cell_type": "code",
   "execution_count": 11,
   "id": "ba8cb7af",
   "metadata": {
    "scrolled": true
   },
   "outputs": [
    {
     "data": {
      "text/plain": [
       "country           0\n",
       "yr                0\n",
       "age               0\n",
       "sex               0\n",
       "alcohol           0\n",
       "drunkard          0\n",
       "obese             0\n",
       "drug              0\n",
       "parents_fights    0\n",
       "bunk              0\n",
       "had_sex           0\n",
       "smoker            0\n",
       "had_fights        0\n",
       "bullied           0\n",
       "accident          0\n",
       "alone             0\n",
       "suicide           0\n",
       "dtype: int64"
      ]
     },
     "execution_count": 11,
     "metadata": {},
     "output_type": "execute_result"
    }
   ],
   "source": [
    "dataset.isnull().sum()"
   ]
  },
  {
   "cell_type": "markdown",
   "id": "79322d74",
   "metadata": {},
   "source": [
    "### Data Preparing"
   ]
  },
  {
   "cell_type": "code",
   "execution_count": 12,
   "id": "2b833bf0",
   "metadata": {},
   "outputs": [],
   "source": [
    "dataset.replace(\"Male\",0,inplace=True)\n",
    "dataset.replace(\"Female\",1,inplace=True)\n",
    "dataset.replace(\"13-15\",0,inplace=True)\n",
    "dataset.replace(\"16-17\",1,inplace=True)"
   ]
  },
  {
   "cell_type": "code",
   "execution_count": 13,
   "id": "eaa255ec",
   "metadata": {},
   "outputs": [
    {
     "data": {
      "text/html": [
       "<div>\n",
       "<style scoped>\n",
       "    .dataframe tbody tr th:only-of-type {\n",
       "        vertical-align: middle;\n",
       "    }\n",
       "\n",
       "    .dataframe tbody tr th {\n",
       "        vertical-align: top;\n",
       "    }\n",
       "\n",
       "    .dataframe thead th {\n",
       "        text-align: right;\n",
       "    }\n",
       "</style>\n",
       "<table border=\"1\" class=\"dataframe\">\n",
       "  <thead>\n",
       "    <tr style=\"text-align: right;\">\n",
       "      <th></th>\n",
       "      <th>country</th>\n",
       "      <th>yr</th>\n",
       "      <th>age</th>\n",
       "      <th>sex</th>\n",
       "      <th>alcohol</th>\n",
       "      <th>drunkard</th>\n",
       "      <th>obese</th>\n",
       "      <th>drug</th>\n",
       "      <th>parents_fights</th>\n",
       "      <th>bunk</th>\n",
       "      <th>had_sex</th>\n",
       "      <th>smoker</th>\n",
       "      <th>had_fights</th>\n",
       "      <th>bullied</th>\n",
       "      <th>accident</th>\n",
       "      <th>alone</th>\n",
       "      <th>suicide</th>\n",
       "    </tr>\n",
       "  </thead>\n",
       "  <tbody>\n",
       "    <tr>\n",
       "      <th>4</th>\n",
       "      <td>Argentina</td>\n",
       "      <td>2012</td>\n",
       "      <td>0</td>\n",
       "      <td>0</td>\n",
       "      <td>49.3</td>\n",
       "      <td>28.9</td>\n",
       "      <td>35.9</td>\n",
       "      <td>10.6</td>\n",
       "      <td>46.2</td>\n",
       "      <td>32.0</td>\n",
       "      <td>43.5</td>\n",
       "      <td>17.0</td>\n",
       "      <td>44.2</td>\n",
       "      <td>42.1</td>\n",
       "      <td>24.8</td>\n",
       "      <td>6.1</td>\n",
       "      <td>12.9</td>\n",
       "    </tr>\n",
       "    <tr>\n",
       "      <th>5</th>\n",
       "      <td>Argentina</td>\n",
       "      <td>2012</td>\n",
       "      <td>0</td>\n",
       "      <td>1</td>\n",
       "      <td>50.7</td>\n",
       "      <td>26.8</td>\n",
       "      <td>21.8</td>\n",
       "      <td>6.5</td>\n",
       "      <td>49.9</td>\n",
       "      <td>29.4</td>\n",
       "      <td>30.7</td>\n",
       "      <td>20.5</td>\n",
       "      <td>24.7</td>\n",
       "      <td>25.2</td>\n",
       "      <td>24.2</td>\n",
       "      <td>4.3</td>\n",
       "      <td>18.9</td>\n",
       "    </tr>\n",
       "    <tr>\n",
       "      <th>8</th>\n",
       "      <td>Benin</td>\n",
       "      <td>2016</td>\n",
       "      <td>0</td>\n",
       "      <td>0</td>\n",
       "      <td>38.0</td>\n",
       "      <td>19.3</td>\n",
       "      <td>12.7</td>\n",
       "      <td>0.8</td>\n",
       "      <td>35.7</td>\n",
       "      <td>18.8</td>\n",
       "      <td>31.8</td>\n",
       "      <td>5.1</td>\n",
       "      <td>32.1</td>\n",
       "      <td>47.4</td>\n",
       "      <td>48.4</td>\n",
       "      <td>10.8</td>\n",
       "      <td>14.4</td>\n",
       "    </tr>\n",
       "    <tr>\n",
       "      <th>9</th>\n",
       "      <td>Benin</td>\n",
       "      <td>2016</td>\n",
       "      <td>0</td>\n",
       "      <td>1</td>\n",
       "      <td>42.4</td>\n",
       "      <td>16.8</td>\n",
       "      <td>18.3</td>\n",
       "      <td>0.2</td>\n",
       "      <td>39.7</td>\n",
       "      <td>6.5</td>\n",
       "      <td>14.2</td>\n",
       "      <td>1.3</td>\n",
       "      <td>27.3</td>\n",
       "      <td>51.5</td>\n",
       "      <td>40.4</td>\n",
       "      <td>14.2</td>\n",
       "      <td>9.6</td>\n",
       "    </tr>\n",
       "    <tr>\n",
       "      <th>10</th>\n",
       "      <td>Benin</td>\n",
       "      <td>2016</td>\n",
       "      <td>1</td>\n",
       "      <td>0</td>\n",
       "      <td>46.5</td>\n",
       "      <td>29.6</td>\n",
       "      <td>3.3</td>\n",
       "      <td>2.1</td>\n",
       "      <td>33.3</td>\n",
       "      <td>17.3</td>\n",
       "      <td>35.7</td>\n",
       "      <td>6.9</td>\n",
       "      <td>28.8</td>\n",
       "      <td>43.3</td>\n",
       "      <td>51.0</td>\n",
       "      <td>9.7</td>\n",
       "      <td>13.4</td>\n",
       "    </tr>\n",
       "    <tr>\n",
       "      <th>...</th>\n",
       "      <td>...</td>\n",
       "      <td>...</td>\n",
       "      <td>...</td>\n",
       "      <td>...</td>\n",
       "      <td>...</td>\n",
       "      <td>...</td>\n",
       "      <td>...</td>\n",
       "      <td>...</td>\n",
       "      <td>...</td>\n",
       "      <td>...</td>\n",
       "      <td>...</td>\n",
       "      <td>...</td>\n",
       "      <td>...</td>\n",
       "      <td>...</td>\n",
       "      <td>...</td>\n",
       "      <td>...</td>\n",
       "      <td>...</td>\n",
       "    </tr>\n",
       "    <tr>\n",
       "      <th>101</th>\n",
       "      <td>Vanuatu</td>\n",
       "      <td>2011</td>\n",
       "      <td>0</td>\n",
       "      <td>1</td>\n",
       "      <td>5.8</td>\n",
       "      <td>4.7</td>\n",
       "      <td>13.6</td>\n",
       "      <td>1.9</td>\n",
       "      <td>20.2</td>\n",
       "      <td>44.6</td>\n",
       "      <td>8.4</td>\n",
       "      <td>8.2</td>\n",
       "      <td>41.8</td>\n",
       "      <td>66.5</td>\n",
       "      <td>57.4</td>\n",
       "      <td>14.3</td>\n",
       "      <td>19.5</td>\n",
       "    </tr>\n",
       "    <tr>\n",
       "      <th>102</th>\n",
       "      <td>Wallis and Futuna</td>\n",
       "      <td>2015</td>\n",
       "      <td>0</td>\n",
       "      <td>0</td>\n",
       "      <td>32.2</td>\n",
       "      <td>35.5</td>\n",
       "      <td>60.5</td>\n",
       "      <td>4.0</td>\n",
       "      <td>36.3</td>\n",
       "      <td>32.7</td>\n",
       "      <td>32.0</td>\n",
       "      <td>25.7</td>\n",
       "      <td>48.7</td>\n",
       "      <td>30.2</td>\n",
       "      <td>51.2</td>\n",
       "      <td>4.1</td>\n",
       "      <td>14.7</td>\n",
       "    </tr>\n",
       "    <tr>\n",
       "      <th>103</th>\n",
       "      <td>Wallis and Futuna</td>\n",
       "      <td>2015</td>\n",
       "      <td>0</td>\n",
       "      <td>1</td>\n",
       "      <td>24.4</td>\n",
       "      <td>27.1</td>\n",
       "      <td>63.0</td>\n",
       "      <td>2.0</td>\n",
       "      <td>36.3</td>\n",
       "      <td>16.2</td>\n",
       "      <td>13.6</td>\n",
       "      <td>29.9</td>\n",
       "      <td>22.9</td>\n",
       "      <td>30.9</td>\n",
       "      <td>41.7</td>\n",
       "      <td>3.3</td>\n",
       "      <td>16.9</td>\n",
       "    </tr>\n",
       "    <tr>\n",
       "      <th>104</th>\n",
       "      <td>Wallis and Futuna</td>\n",
       "      <td>2015</td>\n",
       "      <td>1</td>\n",
       "      <td>0</td>\n",
       "      <td>48.3</td>\n",
       "      <td>53.7</td>\n",
       "      <td>57.8</td>\n",
       "      <td>10.1</td>\n",
       "      <td>36.5</td>\n",
       "      <td>38.9</td>\n",
       "      <td>55.7</td>\n",
       "      <td>40.0</td>\n",
       "      <td>49.6</td>\n",
       "      <td>23.6</td>\n",
       "      <td>54.5</td>\n",
       "      <td>7.3</td>\n",
       "      <td>9.0</td>\n",
       "    </tr>\n",
       "    <tr>\n",
       "      <th>105</th>\n",
       "      <td>Wallis and Futuna</td>\n",
       "      <td>2015</td>\n",
       "      <td>1</td>\n",
       "      <td>1</td>\n",
       "      <td>42.9</td>\n",
       "      <td>51.7</td>\n",
       "      <td>70.6</td>\n",
       "      <td>3.9</td>\n",
       "      <td>37.8</td>\n",
       "      <td>37.2</td>\n",
       "      <td>22.4</td>\n",
       "      <td>41.7</td>\n",
       "      <td>17.3</td>\n",
       "      <td>29.4</td>\n",
       "      <td>30.4</td>\n",
       "      <td>1.5</td>\n",
       "      <td>16.2</td>\n",
       "    </tr>\n",
       "  </tbody>\n",
       "</table>\n",
       "<p>100 rows × 17 columns</p>\n",
       "</div>"
      ],
      "text/plain": [
       "                country    yr  age  sex  alcohol  drunkard  obese  drug  \\\n",
       "4             Argentina  2012    0    0     49.3      28.9   35.9  10.6   \n",
       "5             Argentina  2012    0    1     50.7      26.8   21.8   6.5   \n",
       "8                 Benin  2016    0    0     38.0      19.3   12.7   0.8   \n",
       "9                 Benin  2016    0    1     42.4      16.8   18.3   0.2   \n",
       "10                Benin  2016    1    0     46.5      29.6    3.3   2.1   \n",
       "..                  ...   ...  ...  ...      ...       ...    ...   ...   \n",
       "101            Vanuatu   2011    0    1      5.8       4.7   13.6   1.9   \n",
       "102  Wallis and Futuna   2015    0    0     32.2      35.5   60.5   4.0   \n",
       "103  Wallis and Futuna   2015    0    1     24.4      27.1   63.0   2.0   \n",
       "104  Wallis and Futuna   2015    1    0     48.3      53.7   57.8  10.1   \n",
       "105  Wallis and Futuna   2015    1    1     42.9      51.7   70.6   3.9   \n",
       "\n",
       "     parents_fights  bunk  had_sex  smoker  had_fights  bullied  accident  \\\n",
       "4              46.2  32.0     43.5    17.0        44.2     42.1      24.8   \n",
       "5              49.9  29.4     30.7    20.5        24.7     25.2      24.2   \n",
       "8              35.7  18.8     31.8     5.1        32.1     47.4      48.4   \n",
       "9              39.7   6.5     14.2     1.3        27.3     51.5      40.4   \n",
       "10             33.3  17.3     35.7     6.9        28.8     43.3      51.0   \n",
       "..              ...   ...      ...     ...         ...      ...       ...   \n",
       "101            20.2  44.6      8.4     8.2        41.8     66.5      57.4   \n",
       "102            36.3  32.7     32.0    25.7        48.7     30.2      51.2   \n",
       "103            36.3  16.2     13.6    29.9        22.9     30.9      41.7   \n",
       "104            36.5  38.9     55.7    40.0        49.6     23.6      54.5   \n",
       "105            37.8  37.2     22.4    41.7        17.3     29.4      30.4   \n",
       "\n",
       "     alone  suicide  \n",
       "4      6.1     12.9  \n",
       "5      4.3     18.9  \n",
       "8     10.8     14.4  \n",
       "9     14.2      9.6  \n",
       "10     9.7     13.4  \n",
       "..     ...      ...  \n",
       "101   14.3     19.5  \n",
       "102    4.1     14.7  \n",
       "103    3.3     16.9  \n",
       "104    7.3      9.0  \n",
       "105    1.5     16.2  \n",
       "\n",
       "[100 rows x 17 columns]"
      ]
     },
     "execution_count": 13,
     "metadata": {},
     "output_type": "execute_result"
    }
   ],
   "source": [
    "dataset"
   ]
  },
  {
   "cell_type": "code",
   "execution_count": 14,
   "id": "93a4d757",
   "metadata": {},
   "outputs": [
    {
     "name": "stdout",
     "output_type": "stream",
     "text": [
      "<class 'pandas.core.frame.DataFrame'>\n",
      "Int64Index: 100 entries, 4 to 105\n",
      "Data columns (total 17 columns):\n",
      " #   Column          Non-Null Count  Dtype  \n",
      "---  ------          --------------  -----  \n",
      " 0   country         100 non-null    object \n",
      " 1   yr              100 non-null    int64  \n",
      " 2   age             100 non-null    int64  \n",
      " 3   sex             100 non-null    int64  \n",
      " 4   alcohol         100 non-null    float64\n",
      " 5   drunkard        100 non-null    float64\n",
      " 6   obese           100 non-null    float64\n",
      " 7   drug            100 non-null    float64\n",
      " 8   parents_fights  100 non-null    float64\n",
      " 9   bunk            100 non-null    float64\n",
      " 10  had_sex         100 non-null    float64\n",
      " 11  smoker          100 non-null    float64\n",
      " 12  had_fights      100 non-null    float64\n",
      " 13  bullied         100 non-null    float64\n",
      " 14  accident        100 non-null    float64\n",
      " 15  alone           100 non-null    float64\n",
      " 16  suicide         100 non-null    float64\n",
      "dtypes: float64(13), int64(3), object(1)\n",
      "memory usage: 14.1+ KB\n"
     ]
    }
   ],
   "source": [
    "dataset.info()"
   ]
  },
  {
   "cell_type": "code",
   "execution_count": 15,
   "id": "06254c74",
   "metadata": {},
   "outputs": [
    {
     "data": {
      "text/html": [
       "<div>\n",
       "<style scoped>\n",
       "    .dataframe tbody tr th:only-of-type {\n",
       "        vertical-align: middle;\n",
       "    }\n",
       "\n",
       "    .dataframe tbody tr th {\n",
       "        vertical-align: top;\n",
       "    }\n",
       "\n",
       "    .dataframe thead th {\n",
       "        text-align: right;\n",
       "    }\n",
       "</style>\n",
       "<table border=\"1\" class=\"dataframe\">\n",
       "  <thead>\n",
       "    <tr style=\"text-align: right;\">\n",
       "      <th></th>\n",
       "      <th>country</th>\n",
       "      <th>yr</th>\n",
       "      <th>age</th>\n",
       "      <th>sex</th>\n",
       "      <th>alcohol</th>\n",
       "      <th>drunkard</th>\n",
       "      <th>obese</th>\n",
       "      <th>drug</th>\n",
       "      <th>parents_fights</th>\n",
       "      <th>bunk</th>\n",
       "      <th>had_sex</th>\n",
       "      <th>smoker</th>\n",
       "      <th>had_fights</th>\n",
       "      <th>bullied</th>\n",
       "      <th>accident</th>\n",
       "      <th>alone</th>\n",
       "      <th>suicide</th>\n",
       "    </tr>\n",
       "  </thead>\n",
       "  <tbody>\n",
       "    <tr>\n",
       "      <th>4</th>\n",
       "      <td>Argentina</td>\n",
       "      <td>2012</td>\n",
       "      <td>0</td>\n",
       "      <td>0</td>\n",
       "      <td>49.3</td>\n",
       "      <td>28.9</td>\n",
       "      <td>35.9</td>\n",
       "      <td>10.6</td>\n",
       "      <td>46.2</td>\n",
       "      <td>32.0</td>\n",
       "      <td>43.5</td>\n",
       "      <td>17.0</td>\n",
       "      <td>44.2</td>\n",
       "      <td>42.1</td>\n",
       "      <td>24.8</td>\n",
       "      <td>6.1</td>\n",
       "      <td>12.9</td>\n",
       "    </tr>\n",
       "    <tr>\n",
       "      <th>5</th>\n",
       "      <td>Argentina</td>\n",
       "      <td>2012</td>\n",
       "      <td>0</td>\n",
       "      <td>1</td>\n",
       "      <td>50.7</td>\n",
       "      <td>26.8</td>\n",
       "      <td>21.8</td>\n",
       "      <td>6.5</td>\n",
       "      <td>49.9</td>\n",
       "      <td>29.4</td>\n",
       "      <td>30.7</td>\n",
       "      <td>20.5</td>\n",
       "      <td>24.7</td>\n",
       "      <td>25.2</td>\n",
       "      <td>24.2</td>\n",
       "      <td>4.3</td>\n",
       "      <td>18.9</td>\n",
       "    </tr>\n",
       "    <tr>\n",
       "      <th>8</th>\n",
       "      <td>Benin</td>\n",
       "      <td>2016</td>\n",
       "      <td>0</td>\n",
       "      <td>0</td>\n",
       "      <td>38.0</td>\n",
       "      <td>19.3</td>\n",
       "      <td>12.7</td>\n",
       "      <td>0.8</td>\n",
       "      <td>35.7</td>\n",
       "      <td>18.8</td>\n",
       "      <td>31.8</td>\n",
       "      <td>5.1</td>\n",
       "      <td>32.1</td>\n",
       "      <td>47.4</td>\n",
       "      <td>48.4</td>\n",
       "      <td>10.8</td>\n",
       "      <td>14.4</td>\n",
       "    </tr>\n",
       "    <tr>\n",
       "      <th>9</th>\n",
       "      <td>Benin</td>\n",
       "      <td>2016</td>\n",
       "      <td>0</td>\n",
       "      <td>1</td>\n",
       "      <td>42.4</td>\n",
       "      <td>16.8</td>\n",
       "      <td>18.3</td>\n",
       "      <td>0.2</td>\n",
       "      <td>39.7</td>\n",
       "      <td>6.5</td>\n",
       "      <td>14.2</td>\n",
       "      <td>1.3</td>\n",
       "      <td>27.3</td>\n",
       "      <td>51.5</td>\n",
       "      <td>40.4</td>\n",
       "      <td>14.2</td>\n",
       "      <td>9.6</td>\n",
       "    </tr>\n",
       "    <tr>\n",
       "      <th>10</th>\n",
       "      <td>Benin</td>\n",
       "      <td>2016</td>\n",
       "      <td>1</td>\n",
       "      <td>0</td>\n",
       "      <td>46.5</td>\n",
       "      <td>29.6</td>\n",
       "      <td>3.3</td>\n",
       "      <td>2.1</td>\n",
       "      <td>33.3</td>\n",
       "      <td>17.3</td>\n",
       "      <td>35.7</td>\n",
       "      <td>6.9</td>\n",
       "      <td>28.8</td>\n",
       "      <td>43.3</td>\n",
       "      <td>51.0</td>\n",
       "      <td>9.7</td>\n",
       "      <td>13.4</td>\n",
       "    </tr>\n",
       "  </tbody>\n",
       "</table>\n",
       "</div>"
      ],
      "text/plain": [
       "      country    yr  age  sex  alcohol  drunkard  obese  drug  parents_fights  \\\n",
       "4   Argentina  2012    0    0     49.3      28.9   35.9  10.6            46.2   \n",
       "5   Argentina  2012    0    1     50.7      26.8   21.8   6.5            49.9   \n",
       "8       Benin  2016    0    0     38.0      19.3   12.7   0.8            35.7   \n",
       "9       Benin  2016    0    1     42.4      16.8   18.3   0.2            39.7   \n",
       "10      Benin  2016    1    0     46.5      29.6    3.3   2.1            33.3   \n",
       "\n",
       "    bunk  had_sex  smoker  had_fights  bullied  accident  alone  suicide  \n",
       "4   32.0     43.5    17.0        44.2     42.1      24.8    6.1     12.9  \n",
       "5   29.4     30.7    20.5        24.7     25.2      24.2    4.3     18.9  \n",
       "8   18.8     31.8     5.1        32.1     47.4      48.4   10.8     14.4  \n",
       "9    6.5     14.2     1.3        27.3     51.5      40.4   14.2      9.6  \n",
       "10  17.3     35.7     6.9        28.8     43.3      51.0    9.7     13.4  "
      ]
     },
     "execution_count": 15,
     "metadata": {},
     "output_type": "execute_result"
    }
   ],
   "source": [
    "dataset.head()"
   ]
  },
  {
   "cell_type": "code",
   "execution_count": 16,
   "id": "18826ff3",
   "metadata": {},
   "outputs": [
    {
     "data": {
      "text/html": [
       "<div>\n",
       "<style scoped>\n",
       "    .dataframe tbody tr th:only-of-type {\n",
       "        vertical-align: middle;\n",
       "    }\n",
       "\n",
       "    .dataframe tbody tr th {\n",
       "        vertical-align: top;\n",
       "    }\n",
       "\n",
       "    .dataframe thead th {\n",
       "        text-align: right;\n",
       "    }\n",
       "</style>\n",
       "<table border=\"1\" class=\"dataframe\">\n",
       "  <thead>\n",
       "    <tr style=\"text-align: right;\">\n",
       "      <th></th>\n",
       "      <th>country</th>\n",
       "      <th>yr</th>\n",
       "      <th>age</th>\n",
       "      <th>sex</th>\n",
       "      <th>alcohol</th>\n",
       "      <th>drunkard</th>\n",
       "      <th>obese</th>\n",
       "      <th>drug</th>\n",
       "      <th>parents_fights</th>\n",
       "      <th>bunk</th>\n",
       "      <th>had_sex</th>\n",
       "      <th>smoker</th>\n",
       "      <th>had_fights</th>\n",
       "      <th>bullied</th>\n",
       "      <th>accident</th>\n",
       "      <th>alone</th>\n",
       "      <th>suicide</th>\n",
       "    </tr>\n",
       "  </thead>\n",
       "  <tbody>\n",
       "    <tr>\n",
       "      <th>0</th>\n",
       "      <td>Argentina</td>\n",
       "      <td>2012</td>\n",
       "      <td>0</td>\n",
       "      <td>0</td>\n",
       "      <td>49.3</td>\n",
       "      <td>28.9</td>\n",
       "      <td>35.9</td>\n",
       "      <td>10.6</td>\n",
       "      <td>46.2</td>\n",
       "      <td>32.0</td>\n",
       "      <td>43.5</td>\n",
       "      <td>17.0</td>\n",
       "      <td>44.2</td>\n",
       "      <td>42.1</td>\n",
       "      <td>24.8</td>\n",
       "      <td>6.1</td>\n",
       "      <td>12.9</td>\n",
       "    </tr>\n",
       "    <tr>\n",
       "      <th>1</th>\n",
       "      <td>Argentina</td>\n",
       "      <td>2012</td>\n",
       "      <td>0</td>\n",
       "      <td>1</td>\n",
       "      <td>50.7</td>\n",
       "      <td>26.8</td>\n",
       "      <td>21.8</td>\n",
       "      <td>6.5</td>\n",
       "      <td>49.9</td>\n",
       "      <td>29.4</td>\n",
       "      <td>30.7</td>\n",
       "      <td>20.5</td>\n",
       "      <td>24.7</td>\n",
       "      <td>25.2</td>\n",
       "      <td>24.2</td>\n",
       "      <td>4.3</td>\n",
       "      <td>18.9</td>\n",
       "    </tr>\n",
       "    <tr>\n",
       "      <th>2</th>\n",
       "      <td>Benin</td>\n",
       "      <td>2016</td>\n",
       "      <td>0</td>\n",
       "      <td>0</td>\n",
       "      <td>38.0</td>\n",
       "      <td>19.3</td>\n",
       "      <td>12.7</td>\n",
       "      <td>0.8</td>\n",
       "      <td>35.7</td>\n",
       "      <td>18.8</td>\n",
       "      <td>31.8</td>\n",
       "      <td>5.1</td>\n",
       "      <td>32.1</td>\n",
       "      <td>47.4</td>\n",
       "      <td>48.4</td>\n",
       "      <td>10.8</td>\n",
       "      <td>14.4</td>\n",
       "    </tr>\n",
       "    <tr>\n",
       "      <th>3</th>\n",
       "      <td>Benin</td>\n",
       "      <td>2016</td>\n",
       "      <td>0</td>\n",
       "      <td>1</td>\n",
       "      <td>42.4</td>\n",
       "      <td>16.8</td>\n",
       "      <td>18.3</td>\n",
       "      <td>0.2</td>\n",
       "      <td>39.7</td>\n",
       "      <td>6.5</td>\n",
       "      <td>14.2</td>\n",
       "      <td>1.3</td>\n",
       "      <td>27.3</td>\n",
       "      <td>51.5</td>\n",
       "      <td>40.4</td>\n",
       "      <td>14.2</td>\n",
       "      <td>9.6</td>\n",
       "    </tr>\n",
       "    <tr>\n",
       "      <th>4</th>\n",
       "      <td>Benin</td>\n",
       "      <td>2016</td>\n",
       "      <td>1</td>\n",
       "      <td>0</td>\n",
       "      <td>46.5</td>\n",
       "      <td>29.6</td>\n",
       "      <td>3.3</td>\n",
       "      <td>2.1</td>\n",
       "      <td>33.3</td>\n",
       "      <td>17.3</td>\n",
       "      <td>35.7</td>\n",
       "      <td>6.9</td>\n",
       "      <td>28.8</td>\n",
       "      <td>43.3</td>\n",
       "      <td>51.0</td>\n",
       "      <td>9.7</td>\n",
       "      <td>13.4</td>\n",
       "    </tr>\n",
       "  </tbody>\n",
       "</table>\n",
       "</div>"
      ],
      "text/plain": [
       "     country    yr  age  sex  alcohol  drunkard  obese  drug  parents_fights  \\\n",
       "0  Argentina  2012    0    0     49.3      28.9   35.9  10.6            46.2   \n",
       "1  Argentina  2012    0    1     50.7      26.8   21.8   6.5            49.9   \n",
       "2      Benin  2016    0    0     38.0      19.3   12.7   0.8            35.7   \n",
       "3      Benin  2016    0    1     42.4      16.8   18.3   0.2            39.7   \n",
       "4      Benin  2016    1    0     46.5      29.6    3.3   2.1            33.3   \n",
       "\n",
       "   bunk  had_sex  smoker  had_fights  bullied  accident  alone  suicide  \n",
       "0  32.0     43.5    17.0        44.2     42.1      24.8    6.1     12.9  \n",
       "1  29.4     30.7    20.5        24.7     25.2      24.2    4.3     18.9  \n",
       "2  18.8     31.8     5.1        32.1     47.4      48.4   10.8     14.4  \n",
       "3   6.5     14.2     1.3        27.3     51.5      40.4   14.2      9.6  \n",
       "4  17.3     35.7     6.9        28.8     43.3      51.0    9.7     13.4  "
      ]
     },
     "execution_count": 16,
     "metadata": {},
     "output_type": "execute_result"
    }
   ],
   "source": [
    "dataset = dataset.reset_index(drop=True)\n",
    "dataset.head()"
   ]
  },
  {
   "cell_type": "code",
   "execution_count": 17,
   "id": "13fa8d2c",
   "metadata": {},
   "outputs": [
    {
     "data": {
      "text/html": [
       "<div>\n",
       "<style scoped>\n",
       "    .dataframe tbody tr th:only-of-type {\n",
       "        vertical-align: middle;\n",
       "    }\n",
       "\n",
       "    .dataframe tbody tr th {\n",
       "        vertical-align: top;\n",
       "    }\n",
       "\n",
       "    .dataframe thead th {\n",
       "        text-align: right;\n",
       "    }\n",
       "</style>\n",
       "<table border=\"1\" class=\"dataframe\">\n",
       "  <thead>\n",
       "    <tr style=\"text-align: right;\">\n",
       "      <th></th>\n",
       "      <th>yr</th>\n",
       "      <th>age</th>\n",
       "      <th>sex</th>\n",
       "      <th>alcohol</th>\n",
       "      <th>drunkard</th>\n",
       "      <th>obese</th>\n",
       "      <th>drug</th>\n",
       "      <th>parents_fights</th>\n",
       "      <th>bunk</th>\n",
       "      <th>had_sex</th>\n",
       "      <th>smoker</th>\n",
       "      <th>had_fights</th>\n",
       "      <th>bullied</th>\n",
       "      <th>accident</th>\n",
       "      <th>alone</th>\n",
       "      <th>suicide</th>\n",
       "    </tr>\n",
       "  </thead>\n",
       "  <tbody>\n",
       "    <tr>\n",
       "      <th>count</th>\n",
       "      <td>100.000000</td>\n",
       "      <td>100.000000</td>\n",
       "      <td>100.000000</td>\n",
       "      <td>100.00000</td>\n",
       "      <td>100.000000</td>\n",
       "      <td>100.000000</td>\n",
       "      <td>100.000000</td>\n",
       "      <td>100.000000</td>\n",
       "      <td>100.000000</td>\n",
       "      <td>100.000000</td>\n",
       "      <td>100.000000</td>\n",
       "      <td>100.000000</td>\n",
       "      <td>100.000000</td>\n",
       "      <td>100.000000</td>\n",
       "      <td>100.000000</td>\n",
       "      <td>100.000000</td>\n",
       "    </tr>\n",
       "    <tr>\n",
       "      <th>mean</th>\n",
       "      <td>2014.640000</td>\n",
       "      <td>0.420000</td>\n",
       "      <td>0.500000</td>\n",
       "      <td>30.85900</td>\n",
       "      <td>20.575000</td>\n",
       "      <td>23.229000</td>\n",
       "      <td>7.219000</td>\n",
       "      <td>32.624000</td>\n",
       "      <td>30.273000</td>\n",
       "      <td>25.898000</td>\n",
       "      <td>15.314000</td>\n",
       "      <td>32.680000</td>\n",
       "      <td>31.118000</td>\n",
       "      <td>44.092100</td>\n",
       "      <td>7.826000</td>\n",
       "      <td>14.473000</td>\n",
       "    </tr>\n",
       "    <tr>\n",
       "      <th>std</th>\n",
       "      <td>1.977244</td>\n",
       "      <td>0.496045</td>\n",
       "      <td>0.502519</td>\n",
       "      <td>54.75516</td>\n",
       "      <td>14.091694</td>\n",
       "      <td>16.045008</td>\n",
       "      <td>8.594251</td>\n",
       "      <td>11.627641</td>\n",
       "      <td>10.778185</td>\n",
       "      <td>16.989123</td>\n",
       "      <td>10.804919</td>\n",
       "      <td>15.543578</td>\n",
       "      <td>14.327817</td>\n",
       "      <td>15.067355</td>\n",
       "      <td>4.474227</td>\n",
       "      <td>9.506657</td>\n",
       "    </tr>\n",
       "    <tr>\n",
       "      <th>min</th>\n",
       "      <td>2010.000000</td>\n",
       "      <td>0.000000</td>\n",
       "      <td>0.000000</td>\n",
       "      <td>1.40000</td>\n",
       "      <td>0.800000</td>\n",
       "      <td>3.300000</td>\n",
       "      <td>0.000000</td>\n",
       "      <td>5.600000</td>\n",
       "      <td>6.500000</td>\n",
       "      <td>2.500000</td>\n",
       "      <td>1.200000</td>\n",
       "      <td>3.500000</td>\n",
       "      <td>9.900000</td>\n",
       "      <td>15.200000</td>\n",
       "      <td>1.500000</td>\n",
       "      <td>2.700000</td>\n",
       "    </tr>\n",
       "    <tr>\n",
       "      <th>25%</th>\n",
       "      <td>2013.000000</td>\n",
       "      <td>0.000000</td>\n",
       "      <td>0.000000</td>\n",
       "      <td>10.22500</td>\n",
       "      <td>8.350000</td>\n",
       "      <td>11.275000</td>\n",
       "      <td>1.900000</td>\n",
       "      <td>25.300000</td>\n",
       "      <td>22.750000</td>\n",
       "      <td>12.200000</td>\n",
       "      <td>6.875000</td>\n",
       "      <td>21.250000</td>\n",
       "      <td>21.575000</td>\n",
       "      <td>34.800000</td>\n",
       "      <td>4.375000</td>\n",
       "      <td>9.150000</td>\n",
       "    </tr>\n",
       "    <tr>\n",
       "      <th>50%</th>\n",
       "      <td>2015.000000</td>\n",
       "      <td>0.000000</td>\n",
       "      <td>0.500000</td>\n",
       "      <td>23.80000</td>\n",
       "      <td>18.200000</td>\n",
       "      <td>21.000000</td>\n",
       "      <td>4.100000</td>\n",
       "      <td>32.400000</td>\n",
       "      <td>29.200000</td>\n",
       "      <td>21.900000</td>\n",
       "      <td>12.350000</td>\n",
       "      <td>29.400000</td>\n",
       "      <td>26.850000</td>\n",
       "      <td>42.700000</td>\n",
       "      <td>7.050000</td>\n",
       "      <td>11.850000</td>\n",
       "    </tr>\n",
       "    <tr>\n",
       "      <th>75%</th>\n",
       "      <td>2016.000000</td>\n",
       "      <td>1.000000</td>\n",
       "      <td>1.000000</td>\n",
       "      <td>40.60000</td>\n",
       "      <td>29.050000</td>\n",
       "      <td>30.200000</td>\n",
       "      <td>8.750000</td>\n",
       "      <td>39.825000</td>\n",
       "      <td>36.900000</td>\n",
       "      <td>36.500000</td>\n",
       "      <td>21.600000</td>\n",
       "      <td>42.875000</td>\n",
       "      <td>41.650000</td>\n",
       "      <td>53.350000</td>\n",
       "      <td>10.000000</td>\n",
       "      <td>18.675000</td>\n",
       "    </tr>\n",
       "    <tr>\n",
       "      <th>max</th>\n",
       "      <td>2017.000000</td>\n",
       "      <td>1.000000</td>\n",
       "      <td>1.000000</td>\n",
       "      <td>548.00000</td>\n",
       "      <td>55.300000</td>\n",
       "      <td>70.600000</td>\n",
       "      <td>43.200000</td>\n",
       "      <td>63.900000</td>\n",
       "      <td>62.200000</td>\n",
       "      <td>73.900000</td>\n",
       "      <td>43.800000</td>\n",
       "      <td>76.500000</td>\n",
       "      <td>78.600000</td>\n",
       "      <td>87.700000</td>\n",
       "      <td>24.800000</td>\n",
       "      <td>67.200000</td>\n",
       "    </tr>\n",
       "  </tbody>\n",
       "</table>\n",
       "</div>"
      ],
      "text/plain": [
       "                yr         age         sex    alcohol    drunkard       obese  \\\n",
       "count   100.000000  100.000000  100.000000  100.00000  100.000000  100.000000   \n",
       "mean   2014.640000    0.420000    0.500000   30.85900   20.575000   23.229000   \n",
       "std       1.977244    0.496045    0.502519   54.75516   14.091694   16.045008   \n",
       "min    2010.000000    0.000000    0.000000    1.40000    0.800000    3.300000   \n",
       "25%    2013.000000    0.000000    0.000000   10.22500    8.350000   11.275000   \n",
       "50%    2015.000000    0.000000    0.500000   23.80000   18.200000   21.000000   \n",
       "75%    2016.000000    1.000000    1.000000   40.60000   29.050000   30.200000   \n",
       "max    2017.000000    1.000000    1.000000  548.00000   55.300000   70.600000   \n",
       "\n",
       "             drug  parents_fights        bunk     had_sex      smoker  \\\n",
       "count  100.000000      100.000000  100.000000  100.000000  100.000000   \n",
       "mean     7.219000       32.624000   30.273000   25.898000   15.314000   \n",
       "std      8.594251       11.627641   10.778185   16.989123   10.804919   \n",
       "min      0.000000        5.600000    6.500000    2.500000    1.200000   \n",
       "25%      1.900000       25.300000   22.750000   12.200000    6.875000   \n",
       "50%      4.100000       32.400000   29.200000   21.900000   12.350000   \n",
       "75%      8.750000       39.825000   36.900000   36.500000   21.600000   \n",
       "max     43.200000       63.900000   62.200000   73.900000   43.800000   \n",
       "\n",
       "       had_fights     bullied    accident       alone     suicide  \n",
       "count  100.000000  100.000000  100.000000  100.000000  100.000000  \n",
       "mean    32.680000   31.118000   44.092100    7.826000   14.473000  \n",
       "std     15.543578   14.327817   15.067355    4.474227    9.506657  \n",
       "min      3.500000    9.900000   15.200000    1.500000    2.700000  \n",
       "25%     21.250000   21.575000   34.800000    4.375000    9.150000  \n",
       "50%     29.400000   26.850000   42.700000    7.050000   11.850000  \n",
       "75%     42.875000   41.650000   53.350000   10.000000   18.675000  \n",
       "max     76.500000   78.600000   87.700000   24.800000   67.200000  "
      ]
     },
     "execution_count": 17,
     "metadata": {},
     "output_type": "execute_result"
    }
   ],
   "source": [
    "dataset.describe()"
   ]
  },
  {
   "cell_type": "markdown",
   "id": "cb57c7ae",
   "metadata": {},
   "source": [
    "### Removing data redundancy"
   ]
  },
  {
   "cell_type": "code",
   "execution_count": 18,
   "id": "4a4706f5",
   "metadata": {},
   "outputs": [
    {
     "data": {
      "text/plain": [
       "array([False, False, False, False, False, False, False, False, False,\n",
       "       False, False, False, False, False, False, False, False])"
      ]
     },
     "execution_count": 18,
     "metadata": {},
     "output_type": "execute_result"
    }
   ],
   "source": [
    "dataset.columns.duplicated()"
   ]
  },
  {
   "cell_type": "markdown",
   "id": "258214b8",
   "metadata": {},
   "source": [
    "### Data Analysis and Visualization"
   ]
  },
  {
   "cell_type": "code",
   "execution_count": 54,
   "id": "ef5cf538",
   "metadata": {},
   "outputs": [
    {
     "data": {
      "image/png": "[encoded data removed]",
      "text/plain": [
       "<Figure size 2160x720 with 1 Axes>"
      ]
     },
     "metadata": {
      "needs_background": "light"
     },
     "output_type": "display_data"
    }
   ],
   "source": [
    "dataset_num = dataset.select_dtypes(include=object)\n",
    "for col in dataset_num.columns:\n",
    "    dataset.boxplot(column = 'suicide', by = col,figsize=(30,10))"
   ]
  },
  {
   "cell_type": "markdown",
   "id": "3b17377a",
   "metadata": {},
   "source": [
    "#### Univariate Analysis"
   ]
  },
  {
   "cell_type": "code",
   "execution_count": 19,
   "id": "5d2b3558",
   "metadata": {},
   "outputs": [
    {
     "data": {
      "text/plain": [
       "country            object\n",
       "yr                  int64\n",
       "age                 int64\n",
       "sex                 int64\n",
       "alcohol           float64\n",
       "drunkard          float64\n",
       "obese             float64\n",
       "drug              float64\n",
       "parents_fights    float64\n",
       "bunk              float64\n",
       "had_sex           float64\n",
       "smoker            float64\n",
       "had_fights        float64\n",
       "bullied           float64\n",
       "accident          float64\n",
       "alone             float64\n",
       "suicide           float64\n",
       "dtype: object"
      ]
     },
     "execution_count": 19,
     "metadata": {},
     "output_type": "execute_result"
    }
   ],
   "source": [
    "dataset.dtypes"
   ]
  },
  {
   "cell_type": "code",
   "execution_count": 69,
   "id": "c0e5f3d4",
   "metadata": {},
   "outputs": [
    {
     "data": {
      "image/png": "[encoded data removed]",
      "text/plain": [
       "<Figure size 1440x360 with 2 Axes>"
      ]
     },
     "metadata": {
      "needs_background": "light"
     },
     "output_type": "display_data"
    },
    {
     "data": {
      "image/png": "[encoded data removed]",
      "text/plain": [
       "<Figure size 1440x360 with 2 Axes>"
      ]
     },
     "metadata": {
      "needs_background": "light"
     },
     "output_type": "display_data"
    },
    {
     "data": {
      "image/png": "[encoded data removed]",
      "text/plain": [
       "<Figure size 1440x360 with 2 Axes>"
      ]
     },
     "metadata": {
      "needs_background": "light"
     },
     "output_type": "display_data"
    },
    {
     "data": {
      "image/png": "[encoded data removed]",
      "text/plain": [
       "<Figure size 1440x360 with 2 Axes>"
      ]
     },
     "metadata": {
      "needs_background": "light"
     },
     "output_type": "display_data"
    },
    {
     "data": {
      "image/png": "[encoded data removed]",
      "text/plain": [
       "<Figure size 1440x360 with 2 Axes>"
      ]
     },
     "metadata": {
      "needs_background": "light"
     },
     "output_type": "display_data"
    },
    {
     "data": {
      "image/png": "[encoded data removed]",
      "text/plain": [
       "<Figure size 1440x360 with 2 Axes>"
      ]
     },
     "metadata": {
      "needs_background": "light"
     },
     "output_type": "display_data"
    },
    {
     "data": {
      "image/png": "[encoded data removed]",
      "text/plain": [
       "<Figure size 1440x360 with 2 Axes>"
      ]
     },
     "metadata": {
      "needs_background": "light"
     },
     "output_type": "display_data"
    },
    {
     "data": {
      "image/png": "[encoded data removed]",
      "text/plain": [
       "<Figure size 1440x360 with 2 Axes>"
      ]
     },
     "metadata": {
      "needs_background": "light"
     },
     "output_type": "display_data"
    },
    {
     "data": {
      "image/png": "[encoded data removed]",
      "text/plain": [
       "<Figure size 1440x360 with 2 Axes>"
      ]
     },
     "metadata": {
      "needs_background": "light"
     },
     "output_type": "display_data"
    },
    {
     "data": {
      "image/png": "[encoded data removed]",
      "text/plain": [
       "<Figure size 1440x360 with 2 Axes>"
      ]
     },
     "metadata": {
      "needs_background": "light"
     },
     "output_type": "display_data"
    },
    {
     "data": {
      "image/png": "[encoded data removed]",
      "text/plain": [
       "<Figure size 1440x360 with 2 Axes>"
      ]
     },
     "metadata": {
      "needs_background": "light"
     },
     "output_type": "display_data"
    },
    {
     "data": {
      "image/png": "[encoded data removed]",
      "text/plain": [
       "<Figure size 1440x360 with 2 Axes>"
      ]
     },
     "metadata": {
      "needs_background": "light"
     },
     "output_type": "display_data"
    },
    {
     "data": {
      "image/png": "[encoded data removed]",
      "text/plain": [
       "<Figure size 1440x360 with 2 Axes>"
      ]
     },
     "metadata": {
      "needs_background": "light"
     },
     "output_type": "display_data"
    },
    {
     "data": {
      "image/png": "[encoded data removed]",
      "text/plain": [
       "<Figure size 1440x360 with 2 Axes>"
      ]
     },
     "metadata": {
      "needs_background": "light"
     },
     "output_type": "display_data"
    },
    {
     "data": {
      "image/png": "[encoded data removed]",
      "text/plain": [
       "<Figure size 1440x360 with 2 Axes>"
      ]
     },
     "metadata": {
      "needs_background": "light"
     },
     "output_type": "display_data"
    },
    {
     "data": {
      "image/png": "[encoded data removed]",
      "text/plain": [
       "<Figure size 1440x360 with 2 Axes>"
      ]
     },
     "metadata": {
      "needs_background": "light"
     },
     "output_type": "display_data"
    }
   ],
   "source": [
    "dataset_num = dataset.select_dtypes(exclude=object)\n",
    "for col in dataset_num.columns:\n",
    "    fig, ax = plt.subplots(1, 2, figsize=(20,5))\n",
    "    sns.histplot(data=dataset_num, x=col, ax=ax[0])\n",
    "    sns.boxplot(data=dataset_num, x=col, ax=ax[1])"
   ]
  },
  {
   "cell_type": "code",
   "execution_count": 21,
   "id": "fc6fd2da",
   "metadata": {},
   "outputs": [
    {
     "data": {
      "text/html": [
       "<div>\n",
       "<style scoped>\n",
       "    .dataframe tbody tr th:only-of-type {\n",
       "        vertical-align: middle;\n",
       "    }\n",
       "\n",
       "    .dataframe tbody tr th {\n",
       "        vertical-align: top;\n",
       "    }\n",
       "\n",
       "    .dataframe thead th {\n",
       "        text-align: right;\n",
       "    }\n",
       "</style>\n",
       "<table border=\"1\" class=\"dataframe\">\n",
       "  <thead>\n",
       "    <tr style=\"text-align: right;\">\n",
       "      <th></th>\n",
       "      <th>yr</th>\n",
       "      <th>age</th>\n",
       "      <th>sex</th>\n",
       "      <th>alcohol</th>\n",
       "      <th>drunkard</th>\n",
       "      <th>obese</th>\n",
       "      <th>drug</th>\n",
       "      <th>parents_fights</th>\n",
       "      <th>bunk</th>\n",
       "      <th>had_sex</th>\n",
       "      <th>smoker</th>\n",
       "      <th>had_fights</th>\n",
       "      <th>bullied</th>\n",
       "      <th>accident</th>\n",
       "      <th>alone</th>\n",
       "      <th>suicide</th>\n",
       "    </tr>\n",
       "  </thead>\n",
       "  <tbody>\n",
       "    <tr>\n",
       "      <th>0</th>\n",
       "      <td>2012</td>\n",
       "      <td>0</td>\n",
       "      <td>0</td>\n",
       "      <td>49.3</td>\n",
       "      <td>28.9</td>\n",
       "      <td>35.9</td>\n",
       "      <td>10.6</td>\n",
       "      <td>46.2</td>\n",
       "      <td>32.0</td>\n",
       "      <td>43.5</td>\n",
       "      <td>17.0</td>\n",
       "      <td>44.2</td>\n",
       "      <td>42.1</td>\n",
       "      <td>24.8</td>\n",
       "      <td>6.1</td>\n",
       "      <td>12.9</td>\n",
       "    </tr>\n",
       "    <tr>\n",
       "      <th>1</th>\n",
       "      <td>2012</td>\n",
       "      <td>0</td>\n",
       "      <td>1</td>\n",
       "      <td>50.7</td>\n",
       "      <td>26.8</td>\n",
       "      <td>21.8</td>\n",
       "      <td>6.5</td>\n",
       "      <td>49.9</td>\n",
       "      <td>29.4</td>\n",
       "      <td>30.7</td>\n",
       "      <td>20.5</td>\n",
       "      <td>24.7</td>\n",
       "      <td>25.2</td>\n",
       "      <td>24.2</td>\n",
       "      <td>4.3</td>\n",
       "      <td>18.9</td>\n",
       "    </tr>\n",
       "    <tr>\n",
       "      <th>2</th>\n",
       "      <td>2016</td>\n",
       "      <td>0</td>\n",
       "      <td>0</td>\n",
       "      <td>38.0</td>\n",
       "      <td>19.3</td>\n",
       "      <td>12.7</td>\n",
       "      <td>0.8</td>\n",
       "      <td>35.7</td>\n",
       "      <td>18.8</td>\n",
       "      <td>31.8</td>\n",
       "      <td>5.1</td>\n",
       "      <td>32.1</td>\n",
       "      <td>47.4</td>\n",
       "      <td>48.4</td>\n",
       "      <td>10.8</td>\n",
       "      <td>14.4</td>\n",
       "    </tr>\n",
       "    <tr>\n",
       "      <th>3</th>\n",
       "      <td>2016</td>\n",
       "      <td>0</td>\n",
       "      <td>1</td>\n",
       "      <td>42.4</td>\n",
       "      <td>16.8</td>\n",
       "      <td>18.3</td>\n",
       "      <td>0.2</td>\n",
       "      <td>39.7</td>\n",
       "      <td>6.5</td>\n",
       "      <td>14.2</td>\n",
       "      <td>1.3</td>\n",
       "      <td>27.3</td>\n",
       "      <td>51.5</td>\n",
       "      <td>40.4</td>\n",
       "      <td>14.2</td>\n",
       "      <td>9.6</td>\n",
       "    </tr>\n",
       "    <tr>\n",
       "      <th>4</th>\n",
       "      <td>2016</td>\n",
       "      <td>1</td>\n",
       "      <td>0</td>\n",
       "      <td>46.5</td>\n",
       "      <td>29.6</td>\n",
       "      <td>3.3</td>\n",
       "      <td>2.1</td>\n",
       "      <td>33.3</td>\n",
       "      <td>17.3</td>\n",
       "      <td>35.7</td>\n",
       "      <td>6.9</td>\n",
       "      <td>28.8</td>\n",
       "      <td>43.3</td>\n",
       "      <td>51.0</td>\n",
       "      <td>9.7</td>\n",
       "      <td>13.4</td>\n",
       "    </tr>\n",
       "    <tr>\n",
       "      <th>...</th>\n",
       "      <td>...</td>\n",
       "      <td>...</td>\n",
       "      <td>...</td>\n",
       "      <td>...</td>\n",
       "      <td>...</td>\n",
       "      <td>...</td>\n",
       "      <td>...</td>\n",
       "      <td>...</td>\n",
       "      <td>...</td>\n",
       "      <td>...</td>\n",
       "      <td>...</td>\n",
       "      <td>...</td>\n",
       "      <td>...</td>\n",
       "      <td>...</td>\n",
       "      <td>...</td>\n",
       "      <td>...</td>\n",
       "    </tr>\n",
       "    <tr>\n",
       "      <th>95</th>\n",
       "      <td>2011</td>\n",
       "      <td>0</td>\n",
       "      <td>1</td>\n",
       "      <td>5.8</td>\n",
       "      <td>4.7</td>\n",
       "      <td>13.6</td>\n",
       "      <td>1.9</td>\n",
       "      <td>20.2</td>\n",
       "      <td>44.6</td>\n",
       "      <td>8.4</td>\n",
       "      <td>8.2</td>\n",
       "      <td>41.8</td>\n",
       "      <td>66.5</td>\n",
       "      <td>57.4</td>\n",
       "      <td>14.3</td>\n",
       "      <td>19.5</td>\n",
       "    </tr>\n",
       "    <tr>\n",
       "      <th>96</th>\n",
       "      <td>2015</td>\n",
       "      <td>0</td>\n",
       "      <td>0</td>\n",
       "      <td>32.2</td>\n",
       "      <td>35.5</td>\n",
       "      <td>60.5</td>\n",
       "      <td>4.0</td>\n",
       "      <td>36.3</td>\n",
       "      <td>32.7</td>\n",
       "      <td>32.0</td>\n",
       "      <td>25.7</td>\n",
       "      <td>48.7</td>\n",
       "      <td>30.2</td>\n",
       "      <td>51.2</td>\n",
       "      <td>4.1</td>\n",
       "      <td>14.7</td>\n",
       "    </tr>\n",
       "    <tr>\n",
       "      <th>97</th>\n",
       "      <td>2015</td>\n",
       "      <td>0</td>\n",
       "      <td>1</td>\n",
       "      <td>24.4</td>\n",
       "      <td>27.1</td>\n",
       "      <td>63.0</td>\n",
       "      <td>2.0</td>\n",
       "      <td>36.3</td>\n",
       "      <td>16.2</td>\n",
       "      <td>13.6</td>\n",
       "      <td>29.9</td>\n",
       "      <td>22.9</td>\n",
       "      <td>30.9</td>\n",
       "      <td>41.7</td>\n",
       "      <td>3.3</td>\n",
       "      <td>16.9</td>\n",
       "    </tr>\n",
       "    <tr>\n",
       "      <th>98</th>\n",
       "      <td>2015</td>\n",
       "      <td>1</td>\n",
       "      <td>0</td>\n",
       "      <td>48.3</td>\n",
       "      <td>53.7</td>\n",
       "      <td>57.8</td>\n",
       "      <td>10.1</td>\n",
       "      <td>36.5</td>\n",
       "      <td>38.9</td>\n",
       "      <td>55.7</td>\n",
       "      <td>40.0</td>\n",
       "      <td>49.6</td>\n",
       "      <td>23.6</td>\n",
       "      <td>54.5</td>\n",
       "      <td>7.3</td>\n",
       "      <td>9.0</td>\n",
       "    </tr>\n",
       "    <tr>\n",
       "      <th>99</th>\n",
       "      <td>2015</td>\n",
       "      <td>1</td>\n",
       "      <td>1</td>\n",
       "      <td>42.9</td>\n",
       "      <td>51.7</td>\n",
       "      <td>70.6</td>\n",
       "      <td>3.9</td>\n",
       "      <td>37.8</td>\n",
       "      <td>37.2</td>\n",
       "      <td>22.4</td>\n",
       "      <td>41.7</td>\n",
       "      <td>17.3</td>\n",
       "      <td>29.4</td>\n",
       "      <td>30.4</td>\n",
       "      <td>1.5</td>\n",
       "      <td>16.2</td>\n",
       "    </tr>\n",
       "  </tbody>\n",
       "</table>\n",
       "<p>100 rows × 16 columns</p>\n",
       "</div>"
      ],
      "text/plain": [
       "      yr  age  sex  alcohol  drunkard  obese  drug  parents_fights  bunk  \\\n",
       "0   2012    0    0     49.3      28.9   35.9  10.6            46.2  32.0   \n",
       "1   2012    0    1     50.7      26.8   21.8   6.5            49.9  29.4   \n",
       "2   2016    0    0     38.0      19.3   12.7   0.8            35.7  18.8   \n",
       "3   2016    0    1     42.4      16.8   18.3   0.2            39.7   6.5   \n",
       "4   2016    1    0     46.5      29.6    3.3   2.1            33.3  17.3   \n",
       "..   ...  ...  ...      ...       ...    ...   ...             ...   ...   \n",
       "95  2011    0    1      5.8       4.7   13.6   1.9            20.2  44.6   \n",
       "96  2015    0    0     32.2      35.5   60.5   4.0            36.3  32.7   \n",
       "97  2015    0    1     24.4      27.1   63.0   2.0            36.3  16.2   \n",
       "98  2015    1    0     48.3      53.7   57.8  10.1            36.5  38.9   \n",
       "99  2015    1    1     42.9      51.7   70.6   3.9            37.8  37.2   \n",
       "\n",
       "    had_sex  smoker  had_fights  bullied  accident  alone  suicide  \n",
       "0      43.5    17.0        44.2     42.1      24.8    6.1     12.9  \n",
       "1      30.7    20.5        24.7     25.2      24.2    4.3     18.9  \n",
       "2      31.8     5.1        32.1     47.4      48.4   10.8     14.4  \n",
       "3      14.2     1.3        27.3     51.5      40.4   14.2      9.6  \n",
       "4      35.7     6.9        28.8     43.3      51.0    9.7     13.4  \n",
       "..      ...     ...         ...      ...       ...    ...      ...  \n",
       "95      8.4     8.2        41.8     66.5      57.4   14.3     19.5  \n",
       "96     32.0    25.7        48.7     30.2      51.2    4.1     14.7  \n",
       "97     13.6    29.9        22.9     30.9      41.7    3.3     16.9  \n",
       "98     55.7    40.0        49.6     23.6      54.5    7.3      9.0  \n",
       "99     22.4    41.7        17.3     29.4      30.4    1.5     16.2  \n",
       "\n",
       "[100 rows x 16 columns]"
      ]
     },
     "execution_count": 21,
     "metadata": {},
     "output_type": "execute_result"
    }
   ],
   "source": [
    "dataset_num"
   ]
  },
  {
   "cell_type": "markdown",
   "id": "682cbaa5",
   "metadata": {},
   "source": [
    "#### Bivariate Analysis"
   ]
  },
  {
   "cell_type": "code",
   "execution_count": 22,
   "id": "d18cc505",
   "metadata": {},
   "outputs": [
    {
     "data": {
      "image/png": "[encoded data removed]",
      "text/plain": [
       "<Figure size 1152x360 with 1 Axes>"
      ]
     },
     "metadata": {
      "needs_background": "light"
     },
     "output_type": "display_data"
    },
    {
     "data": {
      "image/png": "[encoded data removed]",
      "text/plain": [
       "<Figure size 1152x360 with 1 Axes>"
      ]
     },
     "metadata": {
      "needs_background": "light"
     },
     "output_type": "display_data"
    },
    {
     "data": {
      "image/png": "[encoded data removed]",
      "text/plain": [
       "<Figure size 1152x360 with 1 Axes>"
      ]
     },
     "metadata": {
      "needs_background": "light"
     },
     "output_type": "display_data"
    },
    {
     "data": {
      "image/png": "[encoded data removed]",
      "text/plain": [
       "<Figure size 1152x360 with 1 Axes>"
      ]
     },
     "metadata": {
      "needs_background": "light"
     },
     "output_type": "display_data"
    },
    {
     "data": {
      "image/png": "[encoded data removed]",
      "text/plain": [
       "<Figure size 1152x360 with 1 Axes>"
      ]
     },
     "metadata": {
      "needs_background": "light"
     },
     "output_type": "display_data"
    },
    {
     "data": {
      "image/png": "[encoded data removed]",
      "text/plain": [
       "<Figure size 1152x360 with 1 Axes>"
      ]
     },
     "metadata": {
      "needs_background": "light"
     },
     "output_type": "display_data"
    },
    {
     "data": {
      "image/png": "[encoded data removed]",
      "text/plain": [
       "<Figure size 1152x360 with 1 Axes>"
      ]
     },
     "metadata": {
      "needs_background": "light"
     },
     "output_type": "display_data"
    },
    {
     "data": {
      "image/png": "[encoded data removed]",
      "text/plain": [
       "<Figure size 1152x360 with 1 Axes>"
      ]
     },
     "metadata": {
      "needs_background": "light"
     },
     "output_type": "display_data"
    },
    {
     "data": {
      "image/png": "[encoded data removed]",
      "text/plain": [
       "<Figure size 1152x360 with 1 Axes>"
      ]
     },
     "metadata": {
      "needs_background": "light"
     },
     "output_type": "display_data"
    },
    {
     "data": {
      "image/png": "[encoded data removed]",
      "text/plain": [
       "<Figure size 1152x360 with 1 Axes>"
      ]
     },
     "metadata": {
      "needs_background": "light"
     },
     "output_type": "display_data"
    },
    {
     "data": {
      "image/png": "[encoded data removed]",
      "text/plain": [
       "<Figure size 1152x360 with 1 Axes>"
      ]
     },
     "metadata": {
      "needs_background": "light"
     },
     "output_type": "display_data"
    },
    {
     "data": {
      "image/png": "[encoded data removed]",
      "text/plain": [
       "<Figure size 1152x360 with 1 Axes>"
      ]
     },
     "metadata": {
      "needs_background": "light"
     },
     "output_type": "display_data"
    },
    {
     "data": {
      "image/png": "[encoded data removed]",
      "text/plain": [
       "<Figure size 1152x360 with 1 Axes>"
      ]
     },
     "metadata": {
      "needs_background": "light"
     },
     "output_type": "display_data"
    },
    {
     "data": {
      "image/png": "[encoded data removed]",
      "text/plain": [
       "<Figure size 1152x360 with 1 Axes>"
      ]
     },
     "metadata": {
      "needs_background": "light"
     },
     "output_type": "display_data"
    },
    {
     "data": {
      "image/png": "[encoded data removed]",
      "text/plain": [
       "<Figure size 1152x360 with 1 Axes>"
      ]
     },
     "metadata": {
      "needs_background": "light"
     },
     "output_type": "display_data"
    },
    {
     "data": {
      "image/png": "[encoded data removed]",
      "text/plain": [
       "<Figure size 1152x360 with 1 Axes>"
      ]
     },
     "metadata": {
      "needs_background": "light"
     },
     "output_type": "display_data"
    }
   ],
   "source": [
    "for col in dataset_num.columns:\n",
    "    fig, ax = plt.subplots(1,figsize=(16,5))\n",
    "    plt.scatter(dataset[col], dataset['suicide'])\n",
    "    plt.xlabel(col)\n",
    "    plt.ylabel('suicide')"
   ]
  },
  {
   "cell_type": "markdown",
   "id": "27890408",
   "metadata": {},
   "source": [
    "All of our numerical variables have a moderate to slightly strong positive relationship \n",
    "   with the class label suicide which\n",
    "   indicates that all these variables do have a significant effect on the rate of suicide attempts. "
   ]
  },
  {
   "cell_type": "markdown",
   "id": "6ae31d9e",
   "metadata": {},
   "source": [
    "### Pearson Correlation "
   ]
  },
  {
   "cell_type": "code",
   "execution_count": 24,
   "id": "d9c4212f",
   "metadata": {},
   "outputs": [
    {
     "data": {
      "text/plain": [
       "<AxesSubplot:>"
      ]
     },
     "execution_count": 24,
     "metadata": {},
     "output_type": "execute_result"
    },
    {
     "data": {
      "image/png": "[encoded data removed]",
      "text/plain": [
       "<Figure size 1440x864 with 2 Axes>"
      ]
     },
     "metadata": {
      "needs_background": "light"
     },
     "output_type": "display_data"
    }
   ],
   "source": [
    "plt.figure(figsize=(20,12))\n",
    "correlation = dataset.corr(method='pearson')\n",
    "sns.heatmap(correlation,annot=True,cmap = 'Blues')"
   ]
  },
  {
   "cell_type": "code",
   "execution_count": 25,
   "id": "b4f0c3d7",
   "metadata": {},
   "outputs": [
    {
     "data": {
      "text/html": [
       "<div>\n",
       "<style scoped>\n",
       "    .dataframe tbody tr th:only-of-type {\n",
       "        vertical-align: middle;\n",
       "    }\n",
       "\n",
       "    .dataframe tbody tr th {\n",
       "        vertical-align: top;\n",
       "    }\n",
       "\n",
       "    .dataframe thead th {\n",
       "        text-align: right;\n",
       "    }\n",
       "</style>\n",
       "<table border=\"1\" class=\"dataframe\">\n",
       "  <thead>\n",
       "    <tr style=\"text-align: right;\">\n",
       "      <th></th>\n",
       "      <th>yr</th>\n",
       "      <th>age</th>\n",
       "      <th>sex</th>\n",
       "      <th>alcohol</th>\n",
       "      <th>drunkard</th>\n",
       "      <th>obese</th>\n",
       "      <th>drug</th>\n",
       "      <th>parents_fights</th>\n",
       "      <th>bunk</th>\n",
       "      <th>had_sex</th>\n",
       "      <th>smoker</th>\n",
       "      <th>had_fights</th>\n",
       "      <th>bullied</th>\n",
       "      <th>accident</th>\n",
       "      <th>alone</th>\n",
       "      <th>suicide</th>\n",
       "    </tr>\n",
       "  </thead>\n",
       "  <tbody>\n",
       "    <tr>\n",
       "      <th>yr</th>\n",
       "      <td>1.000000e+00</td>\n",
       "      <td>2.793014e-01</td>\n",
       "      <td>1.117936e-15</td>\n",
       "      <td>0.171543</td>\n",
       "      <td>0.173470</td>\n",
       "      <td>0.100181</td>\n",
       "      <td>0.139145</td>\n",
       "      <td>0.024895</td>\n",
       "      <td>-0.199816</td>\n",
       "      <td>0.155110</td>\n",
       "      <td>-0.039194</td>\n",
       "      <td>-0.214888</td>\n",
       "      <td>-0.263084</td>\n",
       "      <td>-0.089851</td>\n",
       "      <td>0.173593</td>\n",
       "      <td>-0.189087</td>\n",
       "    </tr>\n",
       "    <tr>\n",
       "      <th>age</th>\n",
       "      <td>2.793014e-01</td>\n",
       "      <td>1.000000e+00</td>\n",
       "      <td>2.249425e-18</td>\n",
       "      <td>-0.004343</td>\n",
       "      <td>0.349917</td>\n",
       "      <td>-0.149526</td>\n",
       "      <td>0.135534</td>\n",
       "      <td>-0.015075</td>\n",
       "      <td>0.152908</td>\n",
       "      <td>0.290520</td>\n",
       "      <td>0.204126</td>\n",
       "      <td>-0.270345</td>\n",
       "      <td>-0.262723</td>\n",
       "      <td>-0.100236</td>\n",
       "      <td>0.010049</td>\n",
       "      <td>-0.145582</td>\n",
       "    </tr>\n",
       "    <tr>\n",
       "      <th>sex</th>\n",
       "      <td>1.117936e-15</td>\n",
       "      <td>2.249425e-18</td>\n",
       "      <td>1.000000e+00</td>\n",
       "      <td>-0.148108</td>\n",
       "      <td>-0.300334</td>\n",
       "      <td>0.086755</td>\n",
       "      <td>-0.338082</td>\n",
       "      <td>0.041143</td>\n",
       "      <td>-0.336530</td>\n",
       "      <td>-0.455041</td>\n",
       "      <td>-0.500058</td>\n",
       "      <td>-0.578831</td>\n",
       "      <td>-0.140152</td>\n",
       "      <td>-0.384483</td>\n",
       "      <td>-0.063345</td>\n",
       "      <td>0.053177</td>\n",
       "    </tr>\n",
       "    <tr>\n",
       "      <th>alcohol</th>\n",
       "      <td>1.715427e-01</td>\n",
       "      <td>-4.342974e-03</td>\n",
       "      <td>-1.481075e-01</td>\n",
       "      <td>1.000000</td>\n",
       "      <td>0.348566</td>\n",
       "      <td>0.034048</td>\n",
       "      <td>0.307827</td>\n",
       "      <td>0.077462</td>\n",
       "      <td>-0.004900</td>\n",
       "      <td>0.411886</td>\n",
       "      <td>0.128407</td>\n",
       "      <td>0.048052</td>\n",
       "      <td>-0.028102</td>\n",
       "      <td>-0.000669</td>\n",
       "      <td>0.140255</td>\n",
       "      <td>0.099006</td>\n",
       "    </tr>\n",
       "    <tr>\n",
       "      <th>drunkard</th>\n",
       "      <td>1.734695e-01</td>\n",
       "      <td>3.499170e-01</td>\n",
       "      <td>-3.003340e-01</td>\n",
       "      <td>0.348566</td>\n",
       "      <td>1.000000</td>\n",
       "      <td>0.161077</td>\n",
       "      <td>0.624900</td>\n",
       "      <td>0.118650</td>\n",
       "      <td>0.140044</td>\n",
       "      <td>0.763615</td>\n",
       "      <td>0.570963</td>\n",
       "      <td>0.076987</td>\n",
       "      <td>0.033170</td>\n",
       "      <td>0.111787</td>\n",
       "      <td>0.276148</td>\n",
       "      <td>0.298736</td>\n",
       "    </tr>\n",
       "    <tr>\n",
       "      <th>obese</th>\n",
       "      <td>1.001807e-01</td>\n",
       "      <td>-1.495256e-01</td>\n",
       "      <td>8.675455e-02</td>\n",
       "      <td>0.034048</td>\n",
       "      <td>0.161077</td>\n",
       "      <td>1.000000</td>\n",
       "      <td>0.116044</td>\n",
       "      <td>0.065477</td>\n",
       "      <td>0.092603</td>\n",
       "      <td>0.081378</td>\n",
       "      <td>0.246391</td>\n",
       "      <td>0.194235</td>\n",
       "      <td>-0.008007</td>\n",
       "      <td>-0.044277</td>\n",
       "      <td>0.061892</td>\n",
       "      <td>0.298063</td>\n",
       "    </tr>\n",
       "    <tr>\n",
       "      <th>drug</th>\n",
       "      <td>1.391452e-01</td>\n",
       "      <td>1.355336e-01</td>\n",
       "      <td>-3.380823e-01</td>\n",
       "      <td>0.307827</td>\n",
       "      <td>0.624900</td>\n",
       "      <td>0.116044</td>\n",
       "      <td>1.000000</td>\n",
       "      <td>0.078705</td>\n",
       "      <td>0.269544</td>\n",
       "      <td>0.649461</td>\n",
       "      <td>0.537644</td>\n",
       "      <td>0.379017</td>\n",
       "      <td>0.172866</td>\n",
       "      <td>0.347453</td>\n",
       "      <td>0.294782</td>\n",
       "      <td>0.429716</td>\n",
       "    </tr>\n",
       "    <tr>\n",
       "      <th>parents_fights</th>\n",
       "      <td>2.489546e-02</td>\n",
       "      <td>-1.507490e-02</td>\n",
       "      <td>4.114317e-02</td>\n",
       "      <td>0.077462</td>\n",
       "      <td>0.118650</td>\n",
       "      <td>0.065477</td>\n",
       "      <td>0.078705</td>\n",
       "      <td>1.000000</td>\n",
       "      <td>-0.473974</td>\n",
       "      <td>0.061028</td>\n",
       "      <td>-0.126714</td>\n",
       "      <td>-0.076031</td>\n",
       "      <td>-0.037204</td>\n",
       "      <td>-0.214949</td>\n",
       "      <td>0.013899</td>\n",
       "      <td>-0.077727</td>\n",
       "    </tr>\n",
       "    <tr>\n",
       "      <th>bunk</th>\n",
       "      <td>-1.998162e-01</td>\n",
       "      <td>1.529076e-01</td>\n",
       "      <td>-3.365299e-01</td>\n",
       "      <td>-0.004900</td>\n",
       "      <td>0.140044</td>\n",
       "      <td>0.092603</td>\n",
       "      <td>0.269544</td>\n",
       "      <td>-0.473974</td>\n",
       "      <td>1.000000</td>\n",
       "      <td>0.288123</td>\n",
       "      <td>0.509576</td>\n",
       "      <td>0.417968</td>\n",
       "      <td>0.365655</td>\n",
       "      <td>0.384924</td>\n",
       "      <td>0.087632</td>\n",
       "      <td>0.353052</td>\n",
       "    </tr>\n",
       "    <tr>\n",
       "      <th>had_sex</th>\n",
       "      <td>1.551095e-01</td>\n",
       "      <td>2.905205e-01</td>\n",
       "      <td>-4.550412e-01</td>\n",
       "      <td>0.411886</td>\n",
       "      <td>0.763615</td>\n",
       "      <td>0.081378</td>\n",
       "      <td>0.649461</td>\n",
       "      <td>0.061028</td>\n",
       "      <td>0.288123</td>\n",
       "      <td>1.000000</td>\n",
       "      <td>0.420603</td>\n",
       "      <td>0.329267</td>\n",
       "      <td>0.270741</td>\n",
       "      <td>0.398894</td>\n",
       "      <td>0.448615</td>\n",
       "      <td>0.438344</td>\n",
       "    </tr>\n",
       "    <tr>\n",
       "      <th>smoker</th>\n",
       "      <td>-3.919373e-02</td>\n",
       "      <td>2.041262e-01</td>\n",
       "      <td>-5.000577e-01</td>\n",
       "      <td>0.128407</td>\n",
       "      <td>0.570963</td>\n",
       "      <td>0.246391</td>\n",
       "      <td>0.537644</td>\n",
       "      <td>-0.126714</td>\n",
       "      <td>0.509576</td>\n",
       "      <td>0.420603</td>\n",
       "      <td>1.000000</td>\n",
       "      <td>0.439856</td>\n",
       "      <td>0.166785</td>\n",
       "      <td>0.403950</td>\n",
       "      <td>0.071488</td>\n",
       "      <td>0.273761</td>\n",
       "    </tr>\n",
       "    <tr>\n",
       "      <th>had_fights</th>\n",
       "      <td>-2.148878e-01</td>\n",
       "      <td>-2.703450e-01</td>\n",
       "      <td>-5.788306e-01</td>\n",
       "      <td>0.048052</td>\n",
       "      <td>0.076987</td>\n",
       "      <td>0.194235</td>\n",
       "      <td>0.379017</td>\n",
       "      <td>-0.076031</td>\n",
       "      <td>0.417968</td>\n",
       "      <td>0.329267</td>\n",
       "      <td>0.439856</td>\n",
       "      <td>1.000000</td>\n",
       "      <td>0.537206</td>\n",
       "      <td>0.660526</td>\n",
       "      <td>0.301415</td>\n",
       "      <td>0.357026</td>\n",
       "    </tr>\n",
       "    <tr>\n",
       "      <th>bullied</th>\n",
       "      <td>-2.630836e-01</td>\n",
       "      <td>-2.627225e-01</td>\n",
       "      <td>-1.401515e-01</td>\n",
       "      <td>-0.028102</td>\n",
       "      <td>0.033170</td>\n",
       "      <td>-0.008007</td>\n",
       "      <td>0.172866</td>\n",
       "      <td>-0.037204</td>\n",
       "      <td>0.365655</td>\n",
       "      <td>0.270741</td>\n",
       "      <td>0.166785</td>\n",
       "      <td>0.537206</td>\n",
       "      <td>1.000000</td>\n",
       "      <td>0.679644</td>\n",
       "      <td>0.410681</td>\n",
       "      <td>0.663891</td>\n",
       "    </tr>\n",
       "    <tr>\n",
       "      <th>accident</th>\n",
       "      <td>-8.985051e-02</td>\n",
       "      <td>-1.002362e-01</td>\n",
       "      <td>-3.844828e-01</td>\n",
       "      <td>-0.000669</td>\n",
       "      <td>0.111787</td>\n",
       "      <td>-0.044277</td>\n",
       "      <td>0.347453</td>\n",
       "      <td>-0.214949</td>\n",
       "      <td>0.384924</td>\n",
       "      <td>0.398894</td>\n",
       "      <td>0.403950</td>\n",
       "      <td>0.660526</td>\n",
       "      <td>0.679644</td>\n",
       "      <td>1.000000</td>\n",
       "      <td>0.309574</td>\n",
       "      <td>0.510078</td>\n",
       "    </tr>\n",
       "    <tr>\n",
       "      <th>alone</th>\n",
       "      <td>1.735933e-01</td>\n",
       "      <td>1.004904e-02</td>\n",
       "      <td>-6.334516e-02</td>\n",
       "      <td>0.140255</td>\n",
       "      <td>0.276148</td>\n",
       "      <td>0.061892</td>\n",
       "      <td>0.294782</td>\n",
       "      <td>0.013899</td>\n",
       "      <td>0.087632</td>\n",
       "      <td>0.448615</td>\n",
       "      <td>0.071488</td>\n",
       "      <td>0.301415</td>\n",
       "      <td>0.410681</td>\n",
       "      <td>0.309574</td>\n",
       "      <td>1.000000</td>\n",
       "      <td>0.457475</td>\n",
       "    </tr>\n",
       "    <tr>\n",
       "      <th>suicide</th>\n",
       "      <td>-1.890869e-01</td>\n",
       "      <td>-1.455820e-01</td>\n",
       "      <td>5.317684e-02</td>\n",
       "      <td>0.099006</td>\n",
       "      <td>0.298736</td>\n",
       "      <td>0.298063</td>\n",
       "      <td>0.429716</td>\n",
       "      <td>-0.077727</td>\n",
       "      <td>0.353052</td>\n",
       "      <td>0.438344</td>\n",
       "      <td>0.273761</td>\n",
       "      <td>0.357026</td>\n",
       "      <td>0.663891</td>\n",
       "      <td>0.510078</td>\n",
       "      <td>0.457475</td>\n",
       "      <td>1.000000</td>\n",
       "    </tr>\n",
       "  </tbody>\n",
       "</table>\n",
       "</div>"
      ],
      "text/plain": [
       "                          yr           age           sex   alcohol  drunkard  \\\n",
       "yr              1.000000e+00  2.793014e-01  1.117936e-15  0.171543  0.173470   \n",
       "age             2.793014e-01  1.000000e+00  2.249425e-18 -0.004343  0.349917   \n",
       "sex             1.117936e-15  2.249425e-18  1.000000e+00 -0.148108 -0.300334   \n",
       "alcohol         1.715427e-01 -4.342974e-03 -1.481075e-01  1.000000  0.348566   \n",
       "drunkard        1.734695e-01  3.499170e-01 -3.003340e-01  0.348566  1.000000   \n",
       "obese           1.001807e-01 -1.495256e-01  8.675455e-02  0.034048  0.161077   \n",
       "drug            1.391452e-01  1.355336e-01 -3.380823e-01  0.307827  0.624900   \n",
       "parents_fights  2.489546e-02 -1.507490e-02  4.114317e-02  0.077462  0.118650   \n",
       "bunk           -1.998162e-01  1.529076e-01 -3.365299e-01 -0.004900  0.140044   \n",
       "had_sex         1.551095e-01  2.905205e-01 -4.550412e-01  0.411886  0.763615   \n",
       "smoker         -3.919373e-02  2.041262e-01 -5.000577e-01  0.128407  0.570963   \n",
       "had_fights     -2.148878e-01 -2.703450e-01 -5.788306e-01  0.048052  0.076987   \n",
       "bullied        -2.630836e-01 -2.627225e-01 -1.401515e-01 -0.028102  0.033170   \n",
       "accident       -8.985051e-02 -1.002362e-01 -3.844828e-01 -0.000669  0.111787   \n",
       "alone           1.735933e-01  1.004904e-02 -6.334516e-02  0.140255  0.276148   \n",
       "suicide        -1.890869e-01 -1.455820e-01  5.317684e-02  0.099006  0.298736   \n",
       "\n",
       "                   obese      drug  parents_fights      bunk   had_sex  \\\n",
       "yr              0.100181  0.139145        0.024895 -0.199816  0.155110   \n",
       "age            -0.149526  0.135534       -0.015075  0.152908  0.290520   \n",
       "sex             0.086755 -0.338082        0.041143 -0.336530 -0.455041   \n",
       "alcohol         0.034048  0.307827        0.077462 -0.004900  0.411886   \n",
       "drunkard        0.161077  0.624900        0.118650  0.140044  0.763615   \n",
       "obese           1.000000  0.116044        0.065477  0.092603  0.081378   \n",
       "drug            0.116044  1.000000        0.078705  0.269544  0.649461   \n",
       "parents_fights  0.065477  0.078705        1.000000 -0.473974  0.061028   \n",
       "bunk            0.092603  0.269544       -0.473974  1.000000  0.288123   \n",
       "had_sex         0.081378  0.649461        0.061028  0.288123  1.000000   \n",
       "smoker          0.246391  0.537644       -0.126714  0.509576  0.420603   \n",
       "had_fights      0.194235  0.379017       -0.076031  0.417968  0.329267   \n",
       "bullied        -0.008007  0.172866       -0.037204  0.365655  0.270741   \n",
       "accident       -0.044277  0.347453       -0.214949  0.384924  0.398894   \n",
       "alone           0.061892  0.294782        0.013899  0.087632  0.448615   \n",
       "suicide         0.298063  0.429716       -0.077727  0.353052  0.438344   \n",
       "\n",
       "                  smoker  had_fights   bullied  accident     alone   suicide  \n",
       "yr             -0.039194   -0.214888 -0.263084 -0.089851  0.173593 -0.189087  \n",
       "age             0.204126   -0.270345 -0.262723 -0.100236  0.010049 -0.145582  \n",
       "sex            -0.500058   -0.578831 -0.140152 -0.384483 -0.063345  0.053177  \n",
       "alcohol         0.128407    0.048052 -0.028102 -0.000669  0.140255  0.099006  \n",
       "drunkard        0.570963    0.076987  0.033170  0.111787  0.276148  0.298736  \n",
       "obese           0.246391    0.194235 -0.008007 -0.044277  0.061892  0.298063  \n",
       "drug            0.537644    0.379017  0.172866  0.347453  0.294782  0.429716  \n",
       "parents_fights -0.126714   -0.076031 -0.037204 -0.214949  0.013899 -0.077727  \n",
       "bunk            0.509576    0.417968  0.365655  0.384924  0.087632  0.353052  \n",
       "had_sex         0.420603    0.329267  0.270741  0.398894  0.448615  0.438344  \n",
       "smoker          1.000000    0.439856  0.166785  0.403950  0.071488  0.273761  \n",
       "had_fights      0.439856    1.000000  0.537206  0.660526  0.301415  0.357026  \n",
       "bullied         0.166785    0.537206  1.000000  0.679644  0.410681  0.663891  \n",
       "accident        0.403950    0.660526  0.679644  1.000000  0.309574  0.510078  \n",
       "alone           0.071488    0.301415  0.410681  0.309574  1.000000  0.457475  \n",
       "suicide         0.273761    0.357026  0.663891  0.510078  0.457475  1.000000  "
      ]
     },
     "execution_count": 25,
     "metadata": {},
     "output_type": "execute_result"
    }
   ],
   "source": [
    "correlation"
   ]
  },
  {
   "cell_type": "markdown",
   "id": "2de320ae",
   "metadata": {},
   "source": [
    "### All Features"
   ]
  },
  {
   "cell_type": "code",
   "execution_count": 26,
   "id": "6e274b10",
   "metadata": {},
   "outputs": [],
   "source": [
    "X = dataset.drop(['country','suicide'],axis=1)\n",
    "Y = dataset['suicide']\n",
    "X_train,X_test ,Y_train,Y_test = train_test_split(X,Y,test_size=0.2,random_state=20)"
   ]
  },
  {
   "cell_type": "code",
   "execution_count": 27,
   "id": "15c459e3",
   "metadata": {},
   "outputs": [
    {
     "name": "stdout",
     "output_type": "stream",
     "text": [
      "Train data size: 80\n",
      "Test data size: 20\n",
      "Accuracy: 56.598%\n"
     ]
    }
   ],
   "source": [
    "model = linear_model.LinearRegression()\n",
    "model.fit(X,Y)\n",
    "predictions = model.predict(X_test)\n",
    "print(\"Train data size:\", len(Y_train))\n",
    "print(\"Test data size:\",len(Y_test))\n",
    "result = model.score(X_test, Y_test)\n",
    "print(\"Accuracy: %.3f%%\" % (result*100.0))"
   ]
  },
  {
   "cell_type": "code",
   "execution_count": null,
   "id": "4cb8c478",
   "metadata": {},
   "outputs": [],
   "source": []
  },
  {
   "cell_type": "code",
   "execution_count": 28,
   "id": "ddce09be",
   "metadata": {},
   "outputs": [
    {
     "name": "stdout",
     "output_type": "stream",
     "text": [
      "Accuracy: 56.980%\n"
     ]
    }
   ],
   "source": [
    "from sklearn.linear_model import Ridge\n",
    "model = Ridge(alpha=1)\n",
    "model.fit(X,Y)\n",
    "predictions= model.predict(X_test)\n",
    "result = model.score(X_test, Y_test)\n",
    "print(\"Accuracy: %.3f%%\" % (result*100.0))"
   ]
  },
  {
   "cell_type": "code",
   "execution_count": null,
   "id": "49c1f37f",
   "metadata": {},
   "outputs": [],
   "source": []
  },
  {
   "cell_type": "code",
   "execution_count": 29,
   "id": "bbe52bb8",
   "metadata": {},
   "outputs": [
    {
     "name": "stdout",
     "output_type": "stream",
     "text": [
      "Accuracy: 49.334%\n"
     ]
    }
   ],
   "source": [
    "from sklearn.linear_model import Lasso\n",
    "model = Lasso(alpha=1)\n",
    "model.fit(X,Y)\n",
    "predictions= model.predict(X_test)\n",
    "result = model.score(X_test, Y_test)\n",
    "print(\"Accuracy: %.3f%%\" % (result*100.0))"
   ]
  },
  {
   "cell_type": "code",
   "execution_count": null,
   "id": "4224e979",
   "metadata": {},
   "outputs": [],
   "source": []
  },
  {
   "cell_type": "code",
   "execution_count": 30,
   "id": "578bfe41",
   "metadata": {},
   "outputs": [
    {
     "name": "stdout",
     "output_type": "stream",
     "text": [
      "Accuracy: 100.000%\n"
     ]
    }
   ],
   "source": [
    "from sklearn.tree import DecisionTreeRegressor\n",
    "model = DecisionTreeRegressor(random_state=0)\n",
    "model.fit(X,Y)\n",
    "predictions= model.predict(X_test)\n",
    "result = model.score(X_test, Y_test)\n",
    "print(\"Accuracy: %.3f%%\" % (result*100.0))"
   ]
  },
  {
   "cell_type": "code",
   "execution_count": null,
   "id": "9c62e0cf",
   "metadata": {},
   "outputs": [],
   "source": []
  },
  {
   "cell_type": "code",
   "execution_count": 31,
   "id": "9bb48af5",
   "metadata": {},
   "outputs": [
    {
     "name": "stdout",
     "output_type": "stream",
     "text": [
      "Accuracy: 89.328%\n"
     ]
    }
   ],
   "source": [
    "from sklearn.ensemble import RandomForestRegressor\n",
    "model = RandomForestRegressor(n_estimators = 100 ,random_state=0)\n",
    "model.fit(X,Y)\n",
    "predictions= model.predict(X_test)\n",
    "result = model.score(X_test, Y_test)\n",
    "print(\"Accuracy: %.3f%%\" % (result*100.0))"
   ]
  },
  {
   "cell_type": "code",
   "execution_count": null,
   "id": "32807749",
   "metadata": {},
   "outputs": [],
   "source": []
  },
  {
   "cell_type": "code",
   "execution_count": 32,
   "id": "455eb0dc",
   "metadata": {},
   "outputs": [
    {
     "name": "stdout",
     "output_type": "stream",
     "text": [
      "Accuracy: -5.183%\n"
     ]
    }
   ],
   "source": [
    "from sklearn.svm import SVR\n",
    "model = SVR()\n",
    "model.fit(X,Y)\n",
    "predictions= model.predict(X_test)\n",
    "result = model.score(X_test, Y_test)\n",
    "print(\"Accuracy: %.3f%%\" % (result*100.0))"
   ]
  },
  {
   "cell_type": "code",
   "execution_count": null,
   "id": "d7c54e0e",
   "metadata": {},
   "outputs": [],
   "source": []
  },
  {
   "cell_type": "code",
   "execution_count": 33,
   "id": "da2eaddc",
   "metadata": {},
   "outputs": [
    {
     "name": "stdout",
     "output_type": "stream",
     "text": [
      "Accuracy: 80.977%\n"
     ]
    }
   ],
   "source": [
    "import sklearn.gaussian_process as gp\n",
    "kernel = gp.kernels.ConstantKernel(1.0, (1e-1, 1e3)) * gp.kernels.RBF(10.0, (1e-3, 1e3))\n",
    "model = gp.GaussianProcessRegressor(kernel=kernel, n_restarts_optimizer=10, alpha=0.1, normalize_y=True)\n",
    "model.fit(X,Y)\n",
    "#params = model.kernel_.get_params()\n",
    "predictions = model.predict(X_test, return_std=True)\n",
    "result = model.score(X_test, Y_test)\n",
    "print(\"Accuracy: %.3f%%\" % (result*100.0))"
   ]
  },
  {
   "cell_type": "code",
   "execution_count": null,
   "id": "49875d2b",
   "metadata": {},
   "outputs": [],
   "source": []
  },
  {
   "cell_type": "code",
   "execution_count": null,
   "id": "c8ce2a87",
   "metadata": {},
   "outputs": [],
   "source": [
    "from pandas import MultiIndex\n",
    "from xgboost import XGBRegressor\n",
    "model = XGBRegressor()\n",
    "model.fit(X,Y)\n",
    "predictions = model.predict(X_test)\n",
    "print(\"Train data size:\", len(Y_train))\n",
    "print(\"Test data size:\",len(Y_test))\n",
    "result = model.score(X_test, Y_test)\n",
    "print(\"Accuracy: %.3f%%\" % (result*100.0))"
   ]
  },
  {
   "cell_type": "code",
   "execution_count": null,
   "id": "9c2b043c",
   "metadata": {},
   "outputs": [],
   "source": []
  },
  {
   "cell_type": "markdown",
   "id": "2607de2b",
   "metadata": {},
   "source": [
    "## HIGHLY CORRELATED FEATURES"
   ]
  },
  {
   "cell_type": "code",
   "execution_count": 35,
   "id": "d2bc2999",
   "metadata": {},
   "outputs": [
    {
     "data": {
      "text/plain": [
       "drug        0.429716\n",
       "had_sex     0.438344\n",
       "bullied     0.663891\n",
       "accident    0.510078\n",
       "alone       0.457475\n",
       "suicide     1.000000\n",
       "Name: suicide, dtype: float64"
      ]
     },
     "execution_count": 35,
     "metadata": {},
     "output_type": "execute_result"
    }
   ],
   "source": [
    "#Correlation with output variable\n",
    "cor_target = correlation['suicide'] \n",
    "#Selecting highly correlated features\n",
    "relevant_features = cor_target[cor_target>0.4]\n",
    "relevant_features"
   ]
  },
  {
   "cell_type": "code",
   "execution_count": 36,
   "id": "3c974e4e",
   "metadata": {},
   "outputs": [
    {
     "data": {
      "text/html": [
       "<div>\n",
       "<style scoped>\n",
       "    .dataframe tbody tr th:only-of-type {\n",
       "        vertical-align: middle;\n",
       "    }\n",
       "\n",
       "    .dataframe tbody tr th {\n",
       "        vertical-align: top;\n",
       "    }\n",
       "\n",
       "    .dataframe thead th {\n",
       "        text-align: right;\n",
       "    }\n",
       "</style>\n",
       "<table border=\"1\" class=\"dataframe\">\n",
       "  <thead>\n",
       "    <tr style=\"text-align: right;\">\n",
       "      <th></th>\n",
       "      <th>drug</th>\n",
       "      <th>had_sex</th>\n",
       "      <th>bullied</th>\n",
       "      <th>accident</th>\n",
       "      <th>alone</th>\n",
       "    </tr>\n",
       "  </thead>\n",
       "  <tbody>\n",
       "    <tr>\n",
       "      <th>drug</th>\n",
       "      <td>1.000000</td>\n",
       "      <td>0.649461</td>\n",
       "      <td>0.172866</td>\n",
       "      <td>0.347453</td>\n",
       "      <td>0.294782</td>\n",
       "    </tr>\n",
       "    <tr>\n",
       "      <th>had_sex</th>\n",
       "      <td>0.649461</td>\n",
       "      <td>1.000000</td>\n",
       "      <td>0.270741</td>\n",
       "      <td>0.398894</td>\n",
       "      <td>0.448615</td>\n",
       "    </tr>\n",
       "    <tr>\n",
       "      <th>bullied</th>\n",
       "      <td>0.172866</td>\n",
       "      <td>0.270741</td>\n",
       "      <td>1.000000</td>\n",
       "      <td>0.679644</td>\n",
       "      <td>0.410681</td>\n",
       "    </tr>\n",
       "    <tr>\n",
       "      <th>accident</th>\n",
       "      <td>0.347453</td>\n",
       "      <td>0.398894</td>\n",
       "      <td>0.679644</td>\n",
       "      <td>1.000000</td>\n",
       "      <td>0.309574</td>\n",
       "    </tr>\n",
       "    <tr>\n",
       "      <th>alone</th>\n",
       "      <td>0.294782</td>\n",
       "      <td>0.448615</td>\n",
       "      <td>0.410681</td>\n",
       "      <td>0.309574</td>\n",
       "      <td>1.000000</td>\n",
       "    </tr>\n",
       "  </tbody>\n",
       "</table>\n",
       "</div>"
      ],
      "text/plain": [
       "              drug   had_sex   bullied  accident     alone\n",
       "drug      1.000000  0.649461  0.172866  0.347453  0.294782\n",
       "had_sex   0.649461  1.000000  0.270741  0.398894  0.448615\n",
       "bullied   0.172866  0.270741  1.000000  0.679644  0.410681\n",
       "accident  0.347453  0.398894  0.679644  1.000000  0.309574\n",
       "alone     0.294782  0.448615  0.410681  0.309574  1.000000"
      ]
     },
     "execution_count": 36,
     "metadata": {},
     "output_type": "execute_result"
    }
   ],
   "source": [
    "## inter correlation\n",
    "Rele_feat = dataset[['drug','had_sex','bullied','accident','alone']]\n",
    "corr_elation = Rele_feat.corr(method=\"pearson\")    # Each are not that much correlated to each other\n",
    "corr_elation"
   ]
  },
  {
   "cell_type": "code",
   "execution_count": null,
   "id": "2f24a3a0",
   "metadata": {},
   "outputs": [],
   "source": [
    "X = dataset[['drug','had_sex','bullied','accident','alone']]\n",
    "Y = dataset['suicide']\n",
    "X_train,X_test ,Y_train,Y_test = train_test_split(X,Y,test_size=0.2,random_state=20)"
   ]
  },
  {
   "cell_type": "code",
   "execution_count": 37,
   "id": "881c552f",
   "metadata": {},
   "outputs": [
    {
     "name": "stdout",
     "output_type": "stream",
     "text": [
      "Train data size: 80\n",
      "Test data size: 20\n",
      "Accuracy: 56.598%\n"
     ]
    }
   ],
   "source": [
    "model = linear_model.LinearRegression()\n",
    "model.fit(X,Y)\n",
    "predictions = model.predict(X_test)\n",
    "print(\"Train data size:\", len(Y_train))\n",
    "print(\"Test data size:\",len(Y_test))\n",
    "result = model.score(X_test, Y_test)\n",
    "print(\"Accuracy: %.3f%%\" % (result*100.0))"
   ]
  },
  {
   "cell_type": "code",
   "execution_count": null,
   "id": "6e493e90",
   "metadata": {},
   "outputs": [],
   "source": []
  },
  {
   "cell_type": "code",
   "execution_count": 38,
   "id": "d70f7ea4",
   "metadata": {},
   "outputs": [
    {
     "name": "stdout",
     "output_type": "stream",
     "text": [
      "Accuracy: 56.980%\n"
     ]
    }
   ],
   "source": [
    "from sklearn.linear_model import Ridge\n",
    "model = Ridge(alpha=1)\n",
    "model.fit(X,Y)\n",
    "predictions= model.predict(X_test)\n",
    "result = model.score(X_test, Y_test)\n",
    "print(\"Accuracy: %.3f%%\" % (result*100.0))"
   ]
  },
  {
   "cell_type": "code",
   "execution_count": null,
   "id": "8a10b2c2",
   "metadata": {},
   "outputs": [],
   "source": []
  },
  {
   "cell_type": "code",
   "execution_count": 39,
   "id": "a9bc9d71",
   "metadata": {},
   "outputs": [
    {
     "name": "stdout",
     "output_type": "stream",
     "text": [
      "Accuracy: 49.334%\n"
     ]
    }
   ],
   "source": [
    "from sklearn.linear_model import Lasso\n",
    "model = Lasso(alpha=1)\n",
    "model.fit(X,Y)\n",
    "predictions= model.predict(X_test)\n",
    "result = model.score(X_test, Y_test)\n",
    "print(\"Accuracy: %.3f%%\" % (result*100.0))"
   ]
  },
  {
   "cell_type": "code",
   "execution_count": null,
   "id": "c0bbc7e1",
   "metadata": {},
   "outputs": [],
   "source": []
  },
  {
   "cell_type": "code",
   "execution_count": 40,
   "id": "2f9ae186",
   "metadata": {},
   "outputs": [
    {
     "name": "stdout",
     "output_type": "stream",
     "text": [
      "Accuracy: 100.000%\n"
     ]
    }
   ],
   "source": [
    "from sklearn.tree import DecisionTreeRegressor\n",
    "model = DecisionTreeRegressor(random_state=0)\n",
    "model.fit(X,Y)\n",
    "predictions= model.predict(X_test)\n",
    "result = model.score(X_test, Y_test)\n",
    "print(\"Accuracy: %.3f%%\" % (result*100.0))"
   ]
  },
  {
   "cell_type": "code",
   "execution_count": null,
   "id": "3c0f0aa4",
   "metadata": {},
   "outputs": [],
   "source": []
  },
  {
   "cell_type": "code",
   "execution_count": 41,
   "id": "49e9892b",
   "metadata": {},
   "outputs": [
    {
     "name": "stdout",
     "output_type": "stream",
     "text": [
      "Accuracy: 89.328%\n"
     ]
    }
   ],
   "source": [
    "from sklearn.ensemble import RandomForestRegressor\n",
    "model = RandomForestRegressor(n_estimators = 100 ,random_state=0)\n",
    "model.fit(X,Y)\n",
    "predictions= model.predict(X_test)\n",
    "result = model.score(X_test, Y_test)\n",
    "print(\"Accuracy: %.3f%%\" % (result*100.0))"
   ]
  },
  {
   "cell_type": "code",
   "execution_count": null,
   "id": "c9697c4c",
   "metadata": {},
   "outputs": [],
   "source": []
  },
  {
   "cell_type": "code",
   "execution_count": 42,
   "id": "be561ef0",
   "metadata": {},
   "outputs": [
    {
     "name": "stdout",
     "output_type": "stream",
     "text": [
      "Accuracy: -5.183%\n"
     ]
    }
   ],
   "source": [
    "from sklearn.svm import SVR\n",
    "model = SVR()\n",
    "model.fit(X,Y)\n",
    "predictions= model.predict(X_test)\n",
    "result = model.score(X_test, Y_test)\n",
    "print(\"Accuracy: %.3f%%\" % (result*100.0))"
   ]
  },
  {
   "cell_type": "code",
   "execution_count": null,
   "id": "70c8bfc3",
   "metadata": {},
   "outputs": [],
   "source": []
  },
  {
   "cell_type": "code",
   "execution_count": 43,
   "id": "628accc8",
   "metadata": {},
   "outputs": [
    {
     "name": "stdout",
     "output_type": "stream",
     "text": [
      "Accuracy: 80.977%\n"
     ]
    }
   ],
   "source": [
    "import sklearn.gaussian_process as gp\n",
    "kernel = gp.kernels.ConstantKernel(1.0, (1e-1, 1e3)) * gp.kernels.RBF(10.0, (1e-3, 1e3))\n",
    "model = gp.GaussianProcessRegressor(kernel=kernel, n_restarts_optimizer=10, alpha=0.1, normalize_y=True)\n",
    "model.fit(X,Y)\n",
    "#params = model.kernel_.get_params()\n",
    "predictions = model.predict(X_test, return_std=True)\n",
    "result = model.score(X_test, Y_test)\n",
    "print(\"Accuracy: %.3f%%\" % (result*100.0))"
   ]
  },
  {
   "cell_type": "code",
   "execution_count": null,
   "id": "49cba1b5",
   "metadata": {},
   "outputs": [],
   "source": []
  },
  {
   "cell_type": "code",
   "execution_count": 44,
   "id": "0f58b926",
   "metadata": {},
   "outputs": [
    {
     "name": "stdout",
     "output_type": "stream",
     "text": [
      "Train data size: 80\n",
      "Test data size: 20\n",
      "Accuracy: 100.000%\n"
     ]
    },
    {
     "name": "stderr",
     "output_type": "stream",
     "text": [
      "C:\\Users\\deept\\anaconda3\\lib\\site-packages\\xgboost\\compat.py:36: FutureWarning: pandas.Int64Index is deprecated and will be removed from pandas in a future version. Use pandas.Index with the appropriate dtype instead.\n",
      "  from pandas import MultiIndex, Int64Index\n",
      "C:\\Users\\deept\\anaconda3\\lib\\site-packages\\xgboost\\data.py:250: FutureWarning: pandas.Int64Index is deprecated and will be removed from pandas in a future version. Use pandas.Index with the appropriate dtype instead.\n",
      "  elif isinstance(data.columns, (pd.Int64Index, pd.RangeIndex)):\n"
     ]
    }
   ],
   "source": [
    "from pandas import MultiIndex\n",
    "from xgboost import XGBRegressor\n",
    "model = XGBRegressor()\n",
    "model.fit(X,Y)\n",
    "predictions = model.predict(X_test)\n",
    "print(\"Train data size:\", len(Y_train))\n",
    "print(\"Test data size:\",len(Y_test))\n",
    "result = model.score(X_test, Y_test)\n",
    "print(\"Accuracy: %.3f%%\" % (result*100.0))"
   ]
  },
  {
   "cell_type": "code",
   "execution_count": null,
   "id": "e5c80c7f",
   "metadata": {},
   "outputs": [],
   "source": []
  },
  {
   "cell_type": "markdown",
   "id": "f8e071c0",
   "metadata": {},
   "source": [
    "### Diagnostic Analysis"
   ]
  },
  {
   "cell_type": "markdown",
   "id": "4237ac11",
   "metadata": {},
   "source": [
    "Since we have numerical data that is highly affecting our class label Attempted_Suicide and our few categorical data, let us dive deep into the Root Cause Analysis ."
   ]
  },
  {
   "cell_type": "markdown",
   "id": "408dedda",
   "metadata": {},
   "source": [
    "**Q1 : Do overweight people get bullied more often based on country?**"
   ]
  },
  {
   "cell_type": "code",
   "execution_count": 58,
   "id": "66d6a1f5",
   "metadata": {},
   "outputs": [
    {
     "data": {
      "text/html": [
       "<div>\n",
       "<style scoped>\n",
       "    .dataframe tbody tr th:only-of-type {\n",
       "        vertical-align: middle;\n",
       "    }\n",
       "\n",
       "    .dataframe tbody tr th {\n",
       "        vertical-align: top;\n",
       "    }\n",
       "\n",
       "    .dataframe thead th {\n",
       "        text-align: right;\n",
       "    }\n",
       "</style>\n",
       "<table border=\"1\" class=\"dataframe\">\n",
       "  <thead>\n",
       "    <tr style=\"text-align: right;\">\n",
       "      <th></th>\n",
       "      <th></th>\n",
       "      <th>suicide</th>\n",
       "    </tr>\n",
       "    <tr>\n",
       "      <th>obese</th>\n",
       "      <th>bullied</th>\n",
       "      <th></th>\n",
       "    </tr>\n",
       "  </thead>\n",
       "  <tbody>\n",
       "    <tr>\n",
       "      <th>43.4</th>\n",
       "      <th>78.6</th>\n",
       "      <td>67.2</td>\n",
       "    </tr>\n",
       "    <tr>\n",
       "      <th>59.1</th>\n",
       "      <th>69.4</th>\n",
       "      <td>53.7</td>\n",
       "    </tr>\n",
       "    <tr>\n",
       "      <th>46.4</th>\n",
       "      <th>32.2</th>\n",
       "      <td>31.5</td>\n",
       "    </tr>\n",
       "    <tr>\n",
       "      <th>12.8</th>\n",
       "      <th>60.0</th>\n",
       "      <td>30.3</td>\n",
       "    </tr>\n",
       "    <tr>\n",
       "      <th>6.3</th>\n",
       "      <th>47.9</th>\n",
       "      <td>29.9</td>\n",
       "    </tr>\n",
       "    <tr>\n",
       "      <th>...</th>\n",
       "      <th>...</th>\n",
       "      <td>...</td>\n",
       "    </tr>\n",
       "    <tr>\n",
       "      <th>10.3</th>\n",
       "      <th>9.9</th>\n",
       "      <td>3.8</td>\n",
       "    </tr>\n",
       "    <tr>\n",
       "      <th>12.6</th>\n",
       "      <th>24.0</th>\n",
       "      <td>3.7</td>\n",
       "    </tr>\n",
       "    <tr>\n",
       "      <th>52.2</th>\n",
       "      <th>15.0</th>\n",
       "      <td>3.6</td>\n",
       "    </tr>\n",
       "    <tr>\n",
       "      <th>14.9</th>\n",
       "      <th>19.0</th>\n",
       "      <td>3.6</td>\n",
       "    </tr>\n",
       "    <tr>\n",
       "      <th>13.1</th>\n",
       "      <th>13.0</th>\n",
       "      <td>2.7</td>\n",
       "    </tr>\n",
       "  </tbody>\n",
       "</table>\n",
       "<p>100 rows × 1 columns</p>\n",
       "</div>"
      ],
      "text/plain": [
       "               suicide\n",
       "obese bullied         \n",
       "43.4  78.6        67.2\n",
       "59.1  69.4        53.7\n",
       "46.4  32.2        31.5\n",
       "12.8  60.0        30.3\n",
       "6.3   47.9        29.9\n",
       "...                ...\n",
       "10.3  9.9          3.8\n",
       "12.6  24.0         3.7\n",
       "52.2  15.0         3.6\n",
       "14.9  19.0         3.6\n",
       "13.1  13.0         2.7\n",
       "\n",
       "[100 rows x 1 columns]"
      ]
     },
     "execution_count": 58,
     "metadata": {},
     "output_type": "execute_result"
    }
   ],
   "source": [
    "dataset_num.groupby(['obese','bullied'])[['suicide']].mean().sort_values('suicide', ascending = False)"
   ]
  },
  {
   "cell_type": "markdown",
   "id": "02230680",
   "metadata": {},
   "source": [
    "From the output, we can conclude that if someone has an overweight problem and got frequently bullied, there is a possibility that they will attempt suicide. In the reverse condition, when someone who has an overweight problem and not getting bullied. It is a small chance that they will be attempting suicide. Furthermore, these are the most cases that highlight the most suicidal cases around the world, as educated people we need to understand their problems and help them by not bullying them. Support them through thin and thick and from such small things like that, we can make their confidence goes up and make them settle very well in their life."
   ]
  },
  {
   "cell_type": "markdown",
   "id": "083d557d",
   "metadata": {},
   "source": [
    "**Q2 : What age group of kids that had sexual relation attempted suicide?**"
   ]
  },
  {
   "cell_type": "code",
   "execution_count": 59,
   "id": "25497106",
   "metadata": {},
   "outputs": [
    {
     "data": {
      "text/html": [
       "<div>\n",
       "<style scoped>\n",
       "    .dataframe tbody tr th:only-of-type {\n",
       "        vertical-align: middle;\n",
       "    }\n",
       "\n",
       "    .dataframe tbody tr th {\n",
       "        vertical-align: top;\n",
       "    }\n",
       "\n",
       "    .dataframe thead th {\n",
       "        text-align: right;\n",
       "    }\n",
       "</style>\n",
       "<table border=\"1\" class=\"dataframe\">\n",
       "  <thead>\n",
       "    <tr style=\"text-align: right;\">\n",
       "      <th></th>\n",
       "      <th></th>\n",
       "      <th>suicide</th>\n",
       "    </tr>\n",
       "    <tr>\n",
       "      <th>age</th>\n",
       "      <th>had_sex</th>\n",
       "      <th></th>\n",
       "    </tr>\n",
       "  </thead>\n",
       "  <tbody>\n",
       "    <tr>\n",
       "      <th>1</th>\n",
       "      <th>2.5</th>\n",
       "      <td>2.7</td>\n",
       "    </tr>\n",
       "    <tr>\n",
       "      <th rowspan=\"2\" valign=\"top\">0</th>\n",
       "      <th>4.0</th>\n",
       "      <td>3.6</td>\n",
       "    </tr>\n",
       "    <tr>\n",
       "      <th>8.2</th>\n",
       "      <td>3.6</td>\n",
       "    </tr>\n",
       "    <tr>\n",
       "      <th rowspan=\"2\" valign=\"top\">1</th>\n",
       "      <th>7.4</th>\n",
       "      <td>3.7</td>\n",
       "    </tr>\n",
       "    <tr>\n",
       "      <th>24.7</th>\n",
       "      <td>3.8</td>\n",
       "    </tr>\n",
       "    <tr>\n",
       "      <th>...</th>\n",
       "      <th>...</th>\n",
       "      <td>...</td>\n",
       "    </tr>\n",
       "    <tr>\n",
       "      <th rowspan=\"5\" valign=\"top\">0</th>\n",
       "      <th>49.8</th>\n",
       "      <td>29.9</td>\n",
       "    </tr>\n",
       "    <tr>\n",
       "      <th>32.3</th>\n",
       "      <td>30.3</td>\n",
       "    </tr>\n",
       "    <tr>\n",
       "      <th>9.8</th>\n",
       "      <td>31.5</td>\n",
       "    </tr>\n",
       "    <tr>\n",
       "      <th>44.9</th>\n",
       "      <td>53.7</td>\n",
       "    </tr>\n",
       "    <tr>\n",
       "      <th>68.5</th>\n",
       "      <td>67.2</td>\n",
       "    </tr>\n",
       "  </tbody>\n",
       "</table>\n",
       "<p>92 rows × 1 columns</p>\n",
       "</div>"
      ],
      "text/plain": [
       "             suicide\n",
       "age had_sex         \n",
       "1   2.5          2.7\n",
       "0   4.0          3.6\n",
       "    8.2          3.6\n",
       "1   7.4          3.7\n",
       "    24.7         3.8\n",
       "...              ...\n",
       "0   49.8        29.9\n",
       "    32.3        30.3\n",
       "    9.8         31.5\n",
       "    44.9        53.7\n",
       "    68.5        67.2\n",
       "\n",
       "[92 rows x 1 columns]"
      ]
     },
     "execution_count": 59,
     "metadata": {},
     "output_type": "execute_result"
    }
   ],
   "source": [
    "dataset.groupby(['age','had_sex'])[['suicide']].mean().sort_values('suicide', ascending = True)"
   ]
  },
  {
   "cell_type": "markdown",
   "id": "2b322cbc",
   "metadata": {},
   "source": [
    "From the output, we can see that Age group of range 13-15 with higher sexual relation rate, attempted more suicide."
   ]
  },
  {
   "cell_type": "markdown",
   "id": "f977307d",
   "metadata": {},
   "source": [
    "**Q3. Based on gender did they commit suicide if they had no friends?**"
   ]
  },
  {
   "cell_type": "code",
   "execution_count": 61,
   "id": "e4d49f21",
   "metadata": {},
   "outputs": [
    {
     "data": {
      "text/html": [
       "<div>\n",
       "<style scoped>\n",
       "    .dataframe tbody tr th:only-of-type {\n",
       "        vertical-align: middle;\n",
       "    }\n",
       "\n",
       "    .dataframe tbody tr th {\n",
       "        vertical-align: top;\n",
       "    }\n",
       "\n",
       "    .dataframe thead th {\n",
       "        text-align: right;\n",
       "    }\n",
       "</style>\n",
       "<table border=\"1\" class=\"dataframe\">\n",
       "  <thead>\n",
       "    <tr style=\"text-align: right;\">\n",
       "      <th></th>\n",
       "      <th></th>\n",
       "      <th>suicide</th>\n",
       "    </tr>\n",
       "    <tr>\n",
       "      <th>sex</th>\n",
       "      <th>alone</th>\n",
       "      <th></th>\n",
       "    </tr>\n",
       "  </thead>\n",
       "  <tbody>\n",
       "    <tr>\n",
       "      <th rowspan=\"2\" valign=\"top\">1</th>\n",
       "      <th>1.6</th>\n",
       "      <td>2.70</td>\n",
       "    </tr>\n",
       "    <tr>\n",
       "      <th>2.4</th>\n",
       "      <td>3.60</td>\n",
       "    </tr>\n",
       "    <tr>\n",
       "      <th rowspan=\"3\" valign=\"top\">0</th>\n",
       "      <th>4.0</th>\n",
       "      <td>3.70</td>\n",
       "    </tr>\n",
       "    <tr>\n",
       "      <th>5.5</th>\n",
       "      <td>3.80</td>\n",
       "    </tr>\n",
       "    <tr>\n",
       "      <th>3.8</th>\n",
       "      <td>4.40</td>\n",
       "    </tr>\n",
       "    <tr>\n",
       "      <th>...</th>\n",
       "      <th>...</th>\n",
       "      <td>...</td>\n",
       "    </tr>\n",
       "    <tr>\n",
       "      <th>1</th>\n",
       "      <th>14.9</th>\n",
       "      <td>28.65</td>\n",
       "    </tr>\n",
       "    <tr>\n",
       "      <th rowspan=\"4\" valign=\"top\">0</th>\n",
       "      <th>3.1</th>\n",
       "      <td>29.80</td>\n",
       "    </tr>\n",
       "    <tr>\n",
       "      <th>13.0</th>\n",
       "      <td>29.90</td>\n",
       "    </tr>\n",
       "    <tr>\n",
       "      <th>7.9</th>\n",
       "      <td>30.30</td>\n",
       "    </tr>\n",
       "    <tr>\n",
       "      <th>17.4</th>\n",
       "      <td>67.20</td>\n",
       "    </tr>\n",
       "  </tbody>\n",
       "</table>\n",
       "<p>82 rows × 1 columns</p>\n",
       "</div>"
      ],
      "text/plain": [
       "           suicide\n",
       "sex alone         \n",
       "1   1.6       2.70\n",
       "    2.4       3.60\n",
       "0   4.0       3.70\n",
       "    5.5       3.80\n",
       "    3.8       4.40\n",
       "...            ...\n",
       "1   14.9     28.65\n",
       "0   3.1      29.80\n",
       "    13.0     29.90\n",
       "    7.9      30.30\n",
       "    17.4     67.20\n",
       "\n",
       "[82 rows x 1 columns]"
      ]
     },
     "execution_count": 61,
     "metadata": {},
     "output_type": "execute_result"
    }
   ],
   "source": [
    "dataset.groupby(['sex','alone'])[['suicide']].mean().sort_values('suicide', ascending = True)"
   ]
  },
  {
   "cell_type": "markdown",
   "id": "16ac0b16",
   "metadata": {},
   "source": [
    "There is not much evidence to prove that the teens either males or females attempted suicides if they had no close friends."
   ]
  },
  {
   "cell_type": "markdown",
   "id": "77519312",
   "metadata": {},
   "source": [
    "**Q4. What gender of teens that were overweight attempted suicide?**"
   ]
  },
  {
   "cell_type": "code",
   "execution_count": 63,
   "id": "61f4b2df",
   "metadata": {},
   "outputs": [
    {
     "data": {
      "text/html": [
       "<div>\n",
       "<style scoped>\n",
       "    .dataframe tbody tr th:only-of-type {\n",
       "        vertical-align: middle;\n",
       "    }\n",
       "\n",
       "    .dataframe tbody tr th {\n",
       "        vertical-align: top;\n",
       "    }\n",
       "\n",
       "    .dataframe thead th {\n",
       "        text-align: right;\n",
       "    }\n",
       "</style>\n",
       "<table border=\"1\" class=\"dataframe\">\n",
       "  <thead>\n",
       "    <tr style=\"text-align: right;\">\n",
       "      <th></th>\n",
       "      <th></th>\n",
       "      <th>suicide</th>\n",
       "    </tr>\n",
       "    <tr>\n",
       "      <th>sex</th>\n",
       "      <th>obese</th>\n",
       "      <th></th>\n",
       "    </tr>\n",
       "  </thead>\n",
       "  <tbody>\n",
       "    <tr>\n",
       "      <th rowspan=\"3\" valign=\"top\">1</th>\n",
       "      <th>13.1</th>\n",
       "      <td>2.7</td>\n",
       "    </tr>\n",
       "    <tr>\n",
       "      <th>52.2</th>\n",
       "      <td>3.6</td>\n",
       "    </tr>\n",
       "    <tr>\n",
       "      <th>14.9</th>\n",
       "      <td>3.6</td>\n",
       "    </tr>\n",
       "    <tr>\n",
       "      <th rowspan=\"5\" valign=\"top\">0</th>\n",
       "      <th>12.6</th>\n",
       "      <td>3.7</td>\n",
       "    </tr>\n",
       "    <tr>\n",
       "      <th>10.3</th>\n",
       "      <td>3.8</td>\n",
       "    </tr>\n",
       "    <tr>\n",
       "      <th>...</th>\n",
       "      <td>...</td>\n",
       "    </tr>\n",
       "    <tr>\n",
       "      <th>31.9</th>\n",
       "      <td>29.8</td>\n",
       "    </tr>\n",
       "    <tr>\n",
       "      <th>12.8</th>\n",
       "      <td>30.3</td>\n",
       "    </tr>\n",
       "    <tr>\n",
       "      <th rowspan=\"2\" valign=\"top\">1</th>\n",
       "      <th>46.4</th>\n",
       "      <td>31.5</td>\n",
       "    </tr>\n",
       "    <tr>\n",
       "      <th>59.1</th>\n",
       "      <td>53.7</td>\n",
       "    </tr>\n",
       "    <tr>\n",
       "      <th>0</th>\n",
       "      <th>43.4</th>\n",
       "      <td>67.2</td>\n",
       "    </tr>\n",
       "  </tbody>\n",
       "</table>\n",
       "<p>95 rows × 1 columns</p>\n",
       "</div>"
      ],
      "text/plain": [
       "           suicide\n",
       "sex obese         \n",
       "1   13.1       2.7\n",
       "    52.2       3.6\n",
       "    14.9       3.6\n",
       "0   12.6       3.7\n",
       "    10.3       3.8\n",
       "...            ...\n",
       "    31.9      29.8\n",
       "    12.8      30.3\n",
       "1   46.4      31.5\n",
       "    59.1      53.7\n",
       "0   43.4      67.2\n",
       "\n",
       "[95 rows x 1 columns]"
      ]
     },
     "execution_count": 63,
     "metadata": {},
     "output_type": "execute_result"
    }
   ],
   "source": [
    "dataset.groupby(['sex','obese'])[['suicide']].mean().sort_values('suicide', ascending = True)"
   ]
  },
  {
   "cell_type": "markdown",
   "id": "498c9bc7",
   "metadata": {},
   "source": [
    "From the output, females who are overweight as compared to the ones who are not, attempted suicide more often."
   ]
  },
  {
   "cell_type": "markdown",
   "id": "b96eb585",
   "metadata": {},
   "source": [
    "**Q5. Attempted Suicide Rate by country based on Gender**"
   ]
  },
  {
   "cell_type": "code",
   "execution_count": 64,
   "id": "e21fd54a",
   "metadata": {},
   "outputs": [
    {
     "data": {
      "text/html": [
       "<div>\n",
       "<style scoped>\n",
       "    .dataframe tbody tr th:only-of-type {\n",
       "        vertical-align: middle;\n",
       "    }\n",
       "\n",
       "    .dataframe tbody tr th {\n",
       "        vertical-align: top;\n",
       "    }\n",
       "\n",
       "    .dataframe thead th {\n",
       "        text-align: right;\n",
       "    }\n",
       "</style>\n",
       "<table border=\"1\" class=\"dataframe\">\n",
       "  <thead>\n",
       "    <tr style=\"text-align: right;\">\n",
       "      <th></th>\n",
       "      <th></th>\n",
       "      <th>suicide</th>\n",
       "    </tr>\n",
       "    <tr>\n",
       "      <th>sex</th>\n",
       "      <th>country</th>\n",
       "      <th></th>\n",
       "    </tr>\n",
       "  </thead>\n",
       "  <tbody>\n",
       "    <tr>\n",
       "      <th rowspan=\"2\" valign=\"top\">1</th>\n",
       "      <th>Indonesia</th>\n",
       "      <td>3.150000</td>\n",
       "    </tr>\n",
       "    <tr>\n",
       "      <th>Tuvalu</th>\n",
       "      <td>3.600000</td>\n",
       "    </tr>\n",
       "    <tr>\n",
       "      <th rowspan=\"4\" valign=\"top\">0</th>\n",
       "      <th>Indonesia</th>\n",
       "      <td>4.050000</td>\n",
       "    </tr>\n",
       "    <tr>\n",
       "      <th>Laos</th>\n",
       "      <td>4.350000</td>\n",
       "    </tr>\n",
       "    <tr>\n",
       "      <th>Brunei Darussalam</th>\n",
       "      <td>4.500000</td>\n",
       "    </tr>\n",
       "    <tr>\n",
       "      <th>Malaysia</th>\n",
       "      <td>6.150000</td>\n",
       "    </tr>\n",
       "    <tr>\n",
       "      <th rowspan=\"2\" valign=\"top\">1</th>\n",
       "      <th>Laos</th>\n",
       "      <td>6.200000</td>\n",
       "    </tr>\n",
       "    <tr>\n",
       "      <th>Malaysia</th>\n",
       "      <td>7.050000</td>\n",
       "    </tr>\n",
       "    <tr>\n",
       "      <th>0</th>\n",
       "      <th>Uruguay</th>\n",
       "      <td>7.400000</td>\n",
       "    </tr>\n",
       "    <tr>\n",
       "      <th rowspan=\"2\" valign=\"top\">1</th>\n",
       "      <th>Brunei Darussalam</th>\n",
       "      <td>7.750000</td>\n",
       "    </tr>\n",
       "    <tr>\n",
       "      <th>Timor-Leste</th>\n",
       "      <td>8.000000</td>\n",
       "    </tr>\n",
       "    <tr>\n",
       "      <th rowspan=\"3\" valign=\"top\">0</th>\n",
       "      <th>Mongolia</th>\n",
       "      <td>8.033333</td>\n",
       "    </tr>\n",
       "    <tr>\n",
       "      <th>Nepal</th>\n",
       "      <td>8.400000</td>\n",
       "    </tr>\n",
       "    <tr>\n",
       "      <th>Timor-Leste</th>\n",
       "      <td>9.550000</td>\n",
       "    </tr>\n",
       "    <tr>\n",
       "      <th>1</th>\n",
       "      <th>Fiji Islands</th>\n",
       "      <td>9.600000</td>\n",
       "    </tr>\n",
       "    <tr>\n",
       "      <th rowspan=\"3\" valign=\"top\">0</th>\n",
       "      <th>Suriname</th>\n",
       "      <td>9.700000</td>\n",
       "    </tr>\n",
       "    <tr>\n",
       "      <th>Bhutan</th>\n",
       "      <td>10.300000</td>\n",
       "    </tr>\n",
       "    <tr>\n",
       "      <th>Mauritus</th>\n",
       "      <td>10.450000</td>\n",
       "    </tr>\n",
       "    <tr>\n",
       "      <th rowspan=\"3\" valign=\"top\">1</th>\n",
       "      <th>Mongolia</th>\n",
       "      <td>10.466667</td>\n",
       "    </tr>\n",
       "    <tr>\n",
       "      <th>Uruguay</th>\n",
       "      <td>10.800000</td>\n",
       "    </tr>\n",
       "    <tr>\n",
       "      <th>Nepal</th>\n",
       "      <td>11.050000</td>\n",
       "    </tr>\n",
       "    <tr>\n",
       "      <th>0</th>\n",
       "      <th>Trinidad and Tobago</th>\n",
       "      <td>11.300000</td>\n",
       "    </tr>\n",
       "    <tr>\n",
       "      <th>1</th>\n",
       "      <th>Thailand</th>\n",
       "      <td>11.650000</td>\n",
       "    </tr>\n",
       "    <tr>\n",
       "      <th>0</th>\n",
       "      <th>Wallis and Futuna</th>\n",
       "      <td>11.850000</td>\n",
       "    </tr>\n",
       "    <tr>\n",
       "      <th>1</th>\n",
       "      <th>Benin</th>\n",
       "      <td>11.850000</td>\n",
       "    </tr>\n",
       "    <tr>\n",
       "      <th>0</th>\n",
       "      <th>Peru</th>\n",
       "      <td>12.000000</td>\n",
       "    </tr>\n",
       "    <tr>\n",
       "      <th>1</th>\n",
       "      <th>Bhutan</th>\n",
       "      <td>12.150000</td>\n",
       "    </tr>\n",
       "    <tr>\n",
       "      <th rowspan=\"3\" valign=\"top\">0</th>\n",
       "      <th>Fiji Islands</th>\n",
       "      <td>12.200000</td>\n",
       "    </tr>\n",
       "    <tr>\n",
       "      <th>Dominican Republic</th>\n",
       "      <td>12.200000</td>\n",
       "    </tr>\n",
       "    <tr>\n",
       "      <th>Argentina</th>\n",
       "      <td>12.900000</td>\n",
       "    </tr>\n",
       "    <tr>\n",
       "      <th>1</th>\n",
       "      <th>Mauritus</th>\n",
       "      <td>13.700000</td>\n",
       "    </tr>\n",
       "    <tr>\n",
       "      <th rowspan=\"4\" valign=\"top\">0</th>\n",
       "      <th>Thailand</th>\n",
       "      <td>13.750000</td>\n",
       "    </tr>\n",
       "    <tr>\n",
       "      <th>Benin</th>\n",
       "      <td>13.900000</td>\n",
       "    </tr>\n",
       "    <tr>\n",
       "      <th>Jamaica</th>\n",
       "      <td>14.650000</td>\n",
       "    </tr>\n",
       "    <tr>\n",
       "      <th>Tuvalu</th>\n",
       "      <td>16.300000</td>\n",
       "    </tr>\n",
       "    <tr>\n",
       "      <th>1</th>\n",
       "      <th>Wallis and Futuna</th>\n",
       "      <td>16.550000</td>\n",
       "    </tr>\n",
       "    <tr>\n",
       "      <th>0</th>\n",
       "      <th>Seychelles</th>\n",
       "      <td>16.850000</td>\n",
       "    </tr>\n",
       "    <tr>\n",
       "      <th rowspan=\"9\" valign=\"top\">1</th>\n",
       "      <th>Suriname</th>\n",
       "      <td>17.150000</td>\n",
       "    </tr>\n",
       "    <tr>\n",
       "      <th>Trinidad and Tobago</th>\n",
       "      <td>17.700000</td>\n",
       "    </tr>\n",
       "    <tr>\n",
       "      <th>Vanuatu</th>\n",
       "      <td>18.266667</td>\n",
       "    </tr>\n",
       "    <tr>\n",
       "      <th>Argentina</th>\n",
       "      <td>18.900000</td>\n",
       "    </tr>\n",
       "    <tr>\n",
       "      <th>Seychelles</th>\n",
       "      <td>19.150000</td>\n",
       "    </tr>\n",
       "    <tr>\n",
       "      <th>Jamaica</th>\n",
       "      <td>21.200000</td>\n",
       "    </tr>\n",
       "    <tr>\n",
       "      <th>Peru</th>\n",
       "      <td>22.000000</td>\n",
       "    </tr>\n",
       "    <tr>\n",
       "      <th>Dominican Republic</th>\n",
       "      <td>22.200000</td>\n",
       "    </tr>\n",
       "    <tr>\n",
       "      <th>Namibia</th>\n",
       "      <td>24.100000</td>\n",
       "    </tr>\n",
       "    <tr>\n",
       "      <th rowspan=\"3\" valign=\"top\">0</th>\n",
       "      <th>Vanuatu</th>\n",
       "      <td>27.233333</td>\n",
       "    </tr>\n",
       "    <tr>\n",
       "      <th>Namibia</th>\n",
       "      <td>27.550000</td>\n",
       "    </tr>\n",
       "    <tr>\n",
       "      <th>Kiribati</th>\n",
       "      <td>29.800000</td>\n",
       "    </tr>\n",
       "    <tr>\n",
       "      <th rowspan=\"2\" valign=\"top\">1</th>\n",
       "      <th>Kiribati</th>\n",
       "      <td>31.500000</td>\n",
       "    </tr>\n",
       "    <tr>\n",
       "      <th>Samoa</th>\n",
       "      <td>31.800000</td>\n",
       "    </tr>\n",
       "    <tr>\n",
       "      <th>0</th>\n",
       "      <th>Samoa</th>\n",
       "      <td>36.966667</td>\n",
       "    </tr>\n",
       "  </tbody>\n",
       "</table>\n",
       "</div>"
      ],
      "text/plain": [
       "                            suicide\n",
       "sex country                        \n",
       "1   Indonesia              3.150000\n",
       "    Tuvalu                 3.600000\n",
       "0   Indonesia              4.050000\n",
       "    Laos                   4.350000\n",
       "    Brunei Darussalam      4.500000\n",
       "    Malaysia               6.150000\n",
       "1   Laos                   6.200000\n",
       "    Malaysia               7.050000\n",
       "0   Uruguay                7.400000\n",
       "1   Brunei Darussalam      7.750000\n",
       "    Timor-Leste            8.000000\n",
       "0   Mongolia               8.033333\n",
       "    Nepal                  8.400000\n",
       "    Timor-Leste            9.550000\n",
       "1   Fiji Islands           9.600000\n",
       "0   Suriname               9.700000\n",
       "    Bhutan                10.300000\n",
       "    Mauritus              10.450000\n",
       "1   Mongolia              10.466667\n",
       "    Uruguay               10.800000\n",
       "    Nepal                 11.050000\n",
       "0   Trinidad and Tobago   11.300000\n",
       "1   Thailand              11.650000\n",
       "0   Wallis and Futuna     11.850000\n",
       "1   Benin                 11.850000\n",
       "0   Peru                  12.000000\n",
       "1   Bhutan                12.150000\n",
       "0   Fiji Islands          12.200000\n",
       "    Dominican Republic    12.200000\n",
       "    Argentina             12.900000\n",
       "1   Mauritus              13.700000\n",
       "0   Thailand              13.750000\n",
       "    Benin                 13.900000\n",
       "    Jamaica               14.650000\n",
       "    Tuvalu                16.300000\n",
       "1   Wallis and Futuna     16.550000\n",
       "0   Seychelles            16.850000\n",
       "1   Suriname              17.150000\n",
       "    Trinidad and Tobago   17.700000\n",
       "    Vanuatu               18.266667\n",
       "    Argentina             18.900000\n",
       "    Seychelles            19.150000\n",
       "    Jamaica               21.200000\n",
       "    Peru                  22.000000\n",
       "    Dominican Republic    22.200000\n",
       "    Namibia               24.100000\n",
       "0   Vanuatu               27.233333\n",
       "    Namibia               27.550000\n",
       "    Kiribati              29.800000\n",
       "1   Kiribati              31.500000\n",
       "    Samoa                 31.800000\n",
       "0   Samoa                 36.966667"
      ]
     },
     "execution_count": 64,
     "metadata": {},
     "output_type": "execute_result"
    }
   ],
   "source": [
    "dataset.groupby(['sex','country'])[['suicide']].mean().sort_values('suicide', ascending = True)"
   ]
  },
  {
   "cell_type": "markdown",
   "id": "717e43af",
   "metadata": {},
   "source": [
    "On a general note, we see that be it any country, female teens attempted more suicides than male teens."
   ]
  },
  {
   "cell_type": "markdown",
   "id": "cb6a53db",
   "metadata": {},
   "source": [
    "**Did teens had understanding parents if they less or more fights?**"
   ]
  },
  {
   "cell_type": "code",
   "execution_count": 65,
   "id": "fbfaec57",
   "metadata": {},
   "outputs": [
    {
     "data": {
      "text/html": [
       "<div>\n",
       "<style scoped>\n",
       "    .dataframe tbody tr th:only-of-type {\n",
       "        vertical-align: middle;\n",
       "    }\n",
       "\n",
       "    .dataframe tbody tr th {\n",
       "        vertical-align: top;\n",
       "    }\n",
       "\n",
       "    .dataframe thead th {\n",
       "        text-align: right;\n",
       "    }\n",
       "</style>\n",
       "<table border=\"1\" class=\"dataframe\">\n",
       "  <thead>\n",
       "    <tr style=\"text-align: right;\">\n",
       "      <th></th>\n",
       "      <th></th>\n",
       "      <th>suicide</th>\n",
       "    </tr>\n",
       "    <tr>\n",
       "      <th>had_fights</th>\n",
       "      <th>parents_fights</th>\n",
       "      <th></th>\n",
       "    </tr>\n",
       "  </thead>\n",
       "  <tbody>\n",
       "    <tr>\n",
       "      <th>7.0</th>\n",
       "      <th>38.8</th>\n",
       "      <td>2.7</td>\n",
       "    </tr>\n",
       "    <tr>\n",
       "      <th>13.1</th>\n",
       "      <th>36.2</th>\n",
       "      <td>3.6</td>\n",
       "    </tr>\n",
       "    <tr>\n",
       "      <th>65.8</th>\n",
       "      <th>19.6</th>\n",
       "      <td>3.6</td>\n",
       "    </tr>\n",
       "    <tr>\n",
       "      <th>23.5</th>\n",
       "      <th>30.2</th>\n",
       "      <td>3.7</td>\n",
       "    </tr>\n",
       "    <tr>\n",
       "      <th>6.4</th>\n",
       "      <th>15.5</th>\n",
       "      <td>3.8</td>\n",
       "    </tr>\n",
       "    <tr>\n",
       "      <th>...</th>\n",
       "      <th>...</th>\n",
       "      <td>...</td>\n",
       "    </tr>\n",
       "    <tr>\n",
       "      <th>44.0</th>\n",
       "      <th>40.2</th>\n",
       "      <td>29.9</td>\n",
       "    </tr>\n",
       "    <tr>\n",
       "      <th>54.4</th>\n",
       "      <th>13.9</th>\n",
       "      <td>30.3</td>\n",
       "    </tr>\n",
       "    <tr>\n",
       "      <th>28.5</th>\n",
       "      <th>15.4</th>\n",
       "      <td>31.5</td>\n",
       "    </tr>\n",
       "    <tr>\n",
       "      <th>62.1</th>\n",
       "      <th>36.7</th>\n",
       "      <td>53.7</td>\n",
       "    </tr>\n",
       "    <tr>\n",
       "      <th>73.3</th>\n",
       "      <th>30.0</th>\n",
       "      <td>67.2</td>\n",
       "    </tr>\n",
       "  </tbody>\n",
       "</table>\n",
       "<p>100 rows × 1 columns</p>\n",
       "</div>"
      ],
      "text/plain": [
       "                           suicide\n",
       "had_fights parents_fights         \n",
       "7.0        38.8                2.7\n",
       "13.1       36.2                3.6\n",
       "65.8       19.6                3.6\n",
       "23.5       30.2                3.7\n",
       "6.4        15.5                3.8\n",
       "...                            ...\n",
       "44.0       40.2               29.9\n",
       "54.4       13.9               30.3\n",
       "28.5       15.4               31.5\n",
       "62.1       36.7               53.7\n",
       "73.3       30.0               67.2\n",
       "\n",
       "[100 rows x 1 columns]"
      ]
     },
     "execution_count": 65,
     "metadata": {},
     "output_type": "execute_result"
    }
   ],
   "source": [
    "dataset.groupby(['had_fights','parents_fights'])[['suicide']].mean().sort_values('suicide', ascending = True)"
   ]
  },
  {
   "cell_type": "markdown",
   "id": "0b5f0876",
   "metadata": {},
   "source": [
    "On a general note we see that teens having less fights had more understanding parents than those who had more fights."
   ]
  }
 ],
 "metadata": {
  "kernelspec": {
   "display_name": "Python 3 (ipykernel)",
   "language": "python",
   "name": "python3"
  },
  "language_info": {
   "codemirror_mode": {
    "name": "ipython",
    "version": 3
   },
   "file_extension": ".py",
   "mimetype": "text/x-python",
   "name": "python",
   "nbconvert_exporter": "python",
   "pygments_lexer": "ipython3",
   "version": "3.9.12"
  }
 },
 "nbformat": 4,
 "nbformat_minor": 5
}
